{
 "cells": [
  {
   "cell_type": "markdown",
   "source": [
    "Notebook to analyze where in the distortion space performance drops to chance levels."
   ],
   "metadata": {
    "collapsed": false,
    "pycharm": {
     "name": "#%% md\n"
    }
   }
  },
  {
   "cell_type": "code",
   "execution_count": 1,
   "outputs": [
    {
     "name": "stderr",
     "output_type": "stream",
     "text": [
      "\u001B[34m\u001B[1mwandb\u001B[0m: Currently logged in as: \u001B[33maustinbergstrom\u001B[0m (use `wandb login --relogin` to force relogin)\n"
     ]
    }
   ],
   "source": [
    "import src.d04_analysis.distortion_performance_composite as dpc\n",
    "import src.d00_utils.functions as functions\n",
    "import src.d00_utils.definitions as definitions\n",
    "from pathlib import Path\n",
    "import numpy as np"
   ],
   "metadata": {
    "collapsed": false,
    "pycharm": {
     "name": "#%%\n"
    }
   }
  },
  {
   "cell_type": "code",
   "execution_count": 2,
   "outputs": [
    {
     "name": "stdout",
     "output_type": "stream",
     "text": [
      "{\n",
      "   \"identifier\": \"oct-models-mega-1-mega-2\",\n",
      "   \"performance_prediction_result_ids\": [\n",
      "      \"0053-rlt-0023-resnet18-oct_111_best_loss-0006-tst-r_fr_pl-b_fr_pl-n_fr_pl_noise:v0\",\n",
      "      \"0052-rlt-0023-resnet18-oct_110_best_loss-0006-tst-r_fr_pl-b_fr_pl-n_fr_pl_noise:v0\",\n",
      "      \"0051-rlt-0023-resnet18-oct_101_best_loss-0006-tst-r_fr_pl-b_fr_pl-n_fr_pl_noise:v0\",\n",
      "      \"0050-rlt-0023-resnet18-oct_100_best_loss-0006-tst-r_fr_pl-b_fr_pl-n_fr_pl_noise:v0\",\n",
      "      \"0049-rlt-0023-resnet18-oct_011_best_loss-0006-tst-r_fr_pl-b_fr_pl-n_fr_pl_noise:v0\",\n",
      "      \"0048-rlt-0023-resnet18-oct_010_best_loss-0006-tst-r_fr_pl-b_fr_pl-n_fr_pl_noise:v0\",\n",
      "      \"0057-rlt-0031-resnet18-oct_001_best_loss-0006-tst-r_fr_pl-b_fr_pl-n_fr_pl_noise:v0\",\n",
      "      \"0055-rlt-0031-resnet18-oct_000_best_loss-0006-tst-r_fr_pl-b_fr_pl-n_fr_pl_noise:v0\"\n",
      "   ],\n",
      "   \"performance_eval_result_ids\": [\n",
      "      \"0045-rlt-0023-resnet18-oct_111_best_loss-0008-tst-full_range_mega_set_2_noise:v0\",\n",
      "      \"0043-rlt-0023-resnet18-oct_110_best_loss-0008-tst-full_range_mega_set_2_noise:v0\",\n",
      "      \"0041-rlt-0023-resnet18-oct_101_best_loss-0008-tst-full_range_mega_set_2_noise:v0\",\n",
      "      \"0039-rlt-0023-resnet18-oct_100_best_loss-0008-tst-full_range_mega_set_2_noise:v0\",\n",
      "      \"0037-rlt-0023-resnet18-oct_011_best_loss-0008-tst-full_range_mega_set_2_noise:v0\",\n",
      "      \"0035-rlt-0023-resnet18-oct_010_best_loss-0008-tst-full_range_mega_set_2_noise:v0\",\n",
      "      \"0059-rlt-0031-resnet18-oct_001_best_loss-0008-tst-full_range_mega_set_2_noise:v0\",\n",
      "      \"0058-rlt-0031-resnet18-oct_000_best_loss-0008-tst-full_range_mega_set_2_noise:v0\"\n",
      "   ]\n",
      "}\n"
     ]
    },
    {
     "data": {
      "text/plain": "<IPython.core.display.HTML object>",
      "text/html": "wandb version 0.12.20 is available!  To upgrade, please run:\n $ pip install wandb --upgrade"
     },
     "metadata": {},
     "output_type": "display_data"
    },
    {
     "data": {
      "text/plain": "<IPython.core.display.HTML object>",
      "text/html": "Tracking run with wandb version 0.12.11"
     },
     "metadata": {},
     "output_type": "display_data"
    },
    {
     "data": {
      "text/plain": "<IPython.core.display.HTML object>",
      "text/html": "Run data is saved locally in <code>/home/acb6595/places/image-quality-for-deep-learning/src/d04_analysis/wandb/run-20220705_132903-1aew36v1</code>"
     },
     "metadata": {},
     "output_type": "display_data"
    },
    {
     "data": {
      "text/plain": "<IPython.core.display.HTML object>",
      "text/html": "Syncing run <strong><a href=\"https://wandb.ai/austinbergstrom/places365/runs/1aew36v1\" target=\"_blank\">cosmic-wildflower-497</a></strong> to <a href=\"https://wandb.ai/austinbergstrom/places365\" target=\"_blank\">Weights & Biases</a> (<a href=\"https://wandb.me/run\" target=\"_blank\">docs</a>)<br/>"
     },
     "metadata": {},
     "output_type": "display_data"
    },
    {
     "name": "stdout",
     "output_type": "stream",
     "text": [
      "\n"
     ]
    },
    {
     "data": {
      "text/plain": "<IPython.core.display.HTML object>",
      "text/html": "Waiting for W&B process to finish... <strong style=\"color:green\">(success).</strong>"
     },
     "metadata": {},
     "output_type": "display_data"
    },
    {
     "data": {
      "text/plain": "VBox(children=(Label(value='0.001 MB of 0.001 MB uploaded (0.000 MB deduped)\\r'), FloatProgress(value=1.0, max…",
      "application/vnd.jupyter.widget-view+json": {
       "version_major": 2,
       "version_minor": 0,
       "model_id": "7e1987f40cde4a4c936894531cb8c21c"
      }
     },
     "metadata": {},
     "output_type": "display_data"
    },
    {
     "data": {
      "text/plain": "<IPython.core.display.HTML object>",
      "text/html": "Synced <strong style=\"color:#cdcd00\">cosmic-wildflower-497</strong>: <a href=\"https://wandb.ai/austinbergstrom/places365/runs/1aew36v1\" target=\"_blank\">https://wandb.ai/austinbergstrom/places365/runs/1aew36v1</a><br/>Synced 5 W&B file(s), 0 media file(s), 0 artifact file(s) and 0 other file(s)"
     },
     "metadata": {},
     "output_type": "display_data"
    },
    {
     "data": {
      "text/plain": "<IPython.core.display.HTML object>",
      "text/html": "Find logs at: <code>./wandb/run-20220705_132903-1aew36v1/logs</code>"
     },
     "metadata": {},
     "output_type": "display_data"
    },
    {
     "data": {
      "text/plain": "<IPython.core.display.HTML object>",
      "text/html": "wandb version 0.12.20 is available!  To upgrade, please run:\n $ pip install wandb --upgrade"
     },
     "metadata": {},
     "output_type": "display_data"
    },
    {
     "data": {
      "text/plain": "<IPython.core.display.HTML object>",
      "text/html": "Tracking run with wandb version 0.12.11"
     },
     "metadata": {},
     "output_type": "display_data"
    },
    {
     "data": {
      "text/plain": "<IPython.core.display.HTML object>",
      "text/html": "Run data is saved locally in <code>/home/acb6595/places/image-quality-for-deep-learning/src/d04_analysis/wandb/run-20220705_132935-1klcmeim</code>"
     },
     "metadata": {},
     "output_type": "display_data"
    },
    {
     "data": {
      "text/plain": "<IPython.core.display.HTML object>",
      "text/html": "Syncing run <strong><a href=\"https://wandb.ai/austinbergstrom/places365/runs/1klcmeim\" target=\"_blank\">fresh-totem-498</a></strong> to <a href=\"https://wandb.ai/austinbergstrom/places365\" target=\"_blank\">Weights & Biases</a> (<a href=\"https://wandb.me/run\" target=\"_blank\">docs</a>)<br/>"
     },
     "metadata": {},
     "output_type": "display_data"
    },
    {
     "name": "stdout",
     "output_type": "stream",
     "text": [
      "\n"
     ]
    },
    {
     "data": {
      "text/plain": "<IPython.core.display.HTML object>",
      "text/html": "Waiting for W&B process to finish... <strong style=\"color:green\">(success).</strong>"
     },
     "metadata": {},
     "output_type": "display_data"
    },
    {
     "data": {
      "text/plain": "VBox(children=(Label(value='0.001 MB of 0.001 MB uploaded (0.000 MB deduped)\\r'), FloatProgress(value=1.0, max…",
      "application/vnd.jupyter.widget-view+json": {
       "version_major": 2,
       "version_minor": 0,
       "model_id": "b920d22739c644e3b8b78bc923a35550"
      }
     },
     "metadata": {},
     "output_type": "display_data"
    },
    {
     "data": {
      "text/plain": "<IPython.core.display.HTML object>",
      "text/html": "Synced <strong style=\"color:#cdcd00\">fresh-totem-498</strong>: <a href=\"https://wandb.ai/austinbergstrom/places365/runs/1klcmeim\" target=\"_blank\">https://wandb.ai/austinbergstrom/places365/runs/1klcmeim</a><br/>Synced 5 W&B file(s), 0 media file(s), 0 artifact file(s) and 0 other file(s)"
     },
     "metadata": {},
     "output_type": "display_data"
    },
    {
     "data": {
      "text/plain": "<IPython.core.display.HTML object>",
      "text/html": "Find logs at: <code>./wandb/run-20220705_132935-1klcmeim/logs</code>"
     },
     "metadata": {},
     "output_type": "display_data"
    }
   ],
   "source": [
    "class PseudoArgs(object):  # created because argparse does not seem to play nicely with Jupyter notebooks, and I need an argparse-like object for functions.get_config(args)\n",
    "\n",
    "    def __init__(self, _config_dir, _config_filename):\n",
    "        self.config_dir = _config_dir\n",
    "        self.config_name = _config_filename\n",
    "\n",
    "config_dir = str(Path(definitions.ROOT_DIR, 'image-quality-for-deep-learning', 'src', 'd04_analysis', 'composite_performance_configs'))\n",
    "# config_filename = 'dn161_fr_mega1_mega2_composite.yml'\n",
    "config_filename = 'pl_oct_composite_config.yml'\n",
    "\n",
    "args_passed = PseudoArgs(config_dir, config_filename)\n",
    "\n",
    "config = functions.get_config(args_passed)\n",
    "cp, output_dir = dpc.get_composite_performance_result(config=config)"
   ],
   "metadata": {
    "collapsed": false,
    "pycharm": {
     "name": "#%%\n"
    }
   }
  },
  {
   "cell_type": "code",
   "execution_count": 3,
   "outputs": [],
   "source": [
    "def get_chance_performance_bins(_cp, threshold):\n",
    "    res_values, blur_values, noise_values, perf_3d, distortion_array, perf_array, __ = _cp.get_3d_distortion_perf_props(distortion_ids=('res', 'blur', 'noise'), predict_eval_flag='eval')\n",
    "    _chance_indices = np.where(perf_array <= threshold)[0]\n",
    "    _chance_distortion_points = distortion_array[_chance_indices, :]\n",
    "    return _chance_indices, _chance_distortion_points, perf_array, res_values, blur_values, noise_values"
   ],
   "metadata": {
    "collapsed": false,
    "pycharm": {
     "name": "#%%\n"
    }
   }
  },
  {
   "cell_type": "code",
   "execution_count": 4,
   "outputs": [
    {
     "name": "stdout",
     "output_type": "stream",
     "text": [
      "loading existing processed properties\n"
     ]
    }
   ],
   "source": [
    "_threshold = 1.5 * (1 / 365)\n",
    "chance_inds, chance_distortion_points, _perf_array, _res_vals, _blur_vals, _noise_vals = get_chance_performance_bins(cp, threshold=_threshold)"
   ],
   "metadata": {
    "collapsed": false,
    "pycharm": {
     "name": "#%%\n"
    }
   }
  },
  {
   "cell_type": "code",
   "execution_count": 5,
   "outputs": [
    {
     "name": "stdout",
     "output_type": "stream",
     "text": [
      "[[ 0.09765625  1.325      32.        ]\n",
      " [ 0.09765625  1.57       42.        ]\n",
      " [ 0.09765625  1.57       48.        ]\n",
      " [ 0.09765625  1.57       50.        ]\n",
      " [ 0.09765625  1.815      28.        ]\n",
      " [ 0.09765625  2.305       2.        ]\n",
      " [ 0.09765625  2.305      36.        ]\n",
      " [ 0.09765625  2.55       18.        ]\n",
      " [ 0.09765625  2.55       36.        ]\n",
      " [ 0.09765625  2.795      44.        ]\n",
      " [ 0.09765625  3.04       38.        ]\n",
      " [ 0.09765625  3.04       40.        ]\n",
      " [ 0.09765625  3.04       44.        ]\n",
      " [ 0.09765625  3.285      18.        ]\n",
      " [ 0.09765625  3.285      26.        ]\n",
      " [ 0.09765625  3.285      28.        ]\n",
      " [ 0.09765625  3.53       22.        ]\n",
      " [ 0.09765625  3.53       30.        ]\n",
      " [ 0.09765625  3.53       44.        ]\n",
      " [ 0.09765625  3.775       4.        ]\n",
      " [ 0.09765625  3.775      10.        ]\n",
      " [ 0.09765625  3.775      12.        ]\n",
      " [ 0.09765625  3.775      20.        ]\n",
      " [ 0.09765625  3.775      26.        ]\n",
      " [ 0.09765625  3.775      34.        ]\n",
      " [ 0.09765625  3.775      40.        ]\n",
      " [ 0.09765625  3.775      42.        ]\n",
      " [ 0.09765625  3.775      48.        ]\n",
      " [ 0.09765625  4.02       12.        ]\n",
      " [ 0.09765625  4.02       44.        ]\n",
      " [ 0.09765625  4.02       48.        ]\n",
      " [ 0.09765625  4.265      10.        ]\n",
      " [ 0.09765625  4.265      14.        ]\n",
      " [ 0.09765625  4.265      18.        ]\n",
      " [ 0.09765625  4.265      22.        ]\n",
      " [ 0.09765625  4.265      28.        ]\n",
      " [ 0.09765625  4.265      32.        ]\n",
      " [ 0.09765625  4.265      38.        ]\n",
      " [ 0.09765625  4.265      40.        ]\n",
      " [ 0.09765625  4.265      44.        ]\n",
      " [ 0.09765625  4.265      48.        ]\n",
      " [ 0.09765625  4.265      50.        ]\n",
      " [ 0.09765625  4.51       14.        ]\n",
      " [ 0.09765625  4.51       18.        ]\n",
      " [ 0.09765625  4.51       28.        ]\n",
      " [ 0.09765625  4.51       38.        ]\n",
      " [ 0.09765625  4.51       48.        ]\n",
      " [ 0.09765625  4.755       8.        ]\n",
      " [ 0.09765625  4.755      12.        ]\n",
      " [ 0.09765625  4.755      26.        ]\n",
      " [ 0.09765625  4.755      44.        ]\n",
      " [ 0.09765625  4.755      48.        ]\n",
      " [ 0.09765625  5.          0.        ]\n",
      " [ 0.09765625  5.          2.        ]\n",
      " [ 0.09765625  5.          8.        ]\n",
      " [ 0.09765625  5.         10.        ]\n",
      " [ 0.09765625  5.         26.        ]\n",
      " [ 0.09765625  5.         34.        ]\n",
      " [ 0.09765625  5.         38.        ]\n",
      " [ 0.09765625  5.         46.        ]\n",
      " [ 0.14453125  2.55       38.        ]\n",
      " [ 0.14453125  2.55       50.        ]\n",
      " [ 0.14453125  3.53       48.        ]\n",
      " [ 0.14453125  3.775      14.        ]\n",
      " [ 0.14453125  4.265      38.        ]\n",
      " [ 0.14453125  4.755      26.        ]\n",
      " [ 0.14453125  4.755      50.        ]\n",
      " [ 0.19140625  1.815      38.        ]\n",
      " [ 0.19140625  2.06       30.        ]\n",
      " [ 0.19140625  3.775      48.        ]\n",
      " [ 0.19140625  4.755      36.        ]\n",
      " [ 0.23828125  4.51       12.        ]\n",
      " [ 0.23828125  5.         28.        ]]\n"
     ]
    }
   ],
   "source": [
    "print(chance_distortion_points)"
   ],
   "metadata": {
    "collapsed": false,
    "pycharm": {
     "name": "#%%\n"
    }
   }
  },
  {
   "cell_type": "code",
   "execution_count": 6,
   "outputs": [],
   "source": [
    "_perf_values = np.unique(_perf_array)"
   ],
   "metadata": {
    "collapsed": false,
    "pycharm": {
     "name": "#%%\n"
    }
   }
  },
  {
   "cell_type": "code",
   "execution_count": 7,
   "outputs": [
    {
     "data": {
      "text/plain": "array([0.        , 0.01098901, 0.01111111, 0.01149425, 0.01176471,\n       0.01190476, 0.01219512, 0.01234568, 0.01298701, 0.01315789],\n      dtype=float32)"
     },
     "execution_count": 7,
     "metadata": {},
     "output_type": "execute_result"
    }
   ],
   "source": [
    "_perf_values[:10]"
   ],
   "metadata": {
    "collapsed": false,
    "pycharm": {
     "name": "#%%\n"
    }
   }
  },
  {
   "cell_type": "code",
   "execution_count": 8,
   "outputs": [
    {
     "name": "stdout",
     "output_type": "stream",
     "text": [
      "dist point match: True\n"
     ]
    }
   ],
   "source": [
    "deltas = [_perf_values[i+1] - _perf_values[i] for i in range(len(_perf_values[:100]) - 1)]\n",
    "num_dist_points = len(_perf_array)\n",
    "dist_point_match = num_dist_points == len(_res_vals) * len(_blur_vals) * len(_noise_vals)\n",
    "print('dist point match:', dist_point_match)\n",
    "mean_samples = len(np.ravel(cp.top_1_vec)) / num_dist_points\n",
    "single_image_delta = 1 / mean_samples\n",
    "# print(deltas)"
   ],
   "metadata": {
    "collapsed": false,
    "pycharm": {
     "name": "#%%\n"
    }
   }
  },
  {
   "cell_type": "code",
   "execution_count": 9,
   "outputs": [
    {
     "data": {
      "text/plain": "<Figure size 432x288 with 1 Axes>",
      "image/png": "[encoded data removed]"
     },
     "metadata": {
      "needs_background": "light"
     },
     "output_type": "display_data"
    }
   ],
   "source": [
    "import matplotlib.pyplot as plt\n",
    "plt.figure()\n",
    "plt.plot(deltas, label='measured performance change')\n",
    "plt.plot(single_image_delta * np.ones_like(deltas), label='single image change')\n",
    "plt.xlabel('index')\n",
    "plt.ylabel('performance change')\n",
    "plt.legend()\n",
    "plt.show()"
   ],
   "metadata": {
    "collapsed": false,
    "pycharm": {
     "name": "#%%\n"
    }
   }
  }
 ],
 "metadata": {
  "kernelspec": {
   "display_name": "Python 3",
   "language": "python",
   "name": "python3"
  },
  "language_info": {
   "codemirror_mode": {
    "name": "ipython",
    "version": 2
   },
   "file_extension": ".py",
   "mimetype": "text/x-python",
   "name": "python",
   "nbconvert_exporter": "python",
   "pygments_lexer": "ipython2",
   "version": "2.7.6"
  }
 },
 "nbformat": 4,
 "nbformat_minor": 0
}