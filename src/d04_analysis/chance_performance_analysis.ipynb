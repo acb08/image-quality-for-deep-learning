{
 "cells": [
  {
   "cell_type": "markdown",
   "source": [
    "Notebook to analyze where in the distortion space performance drops to chance levels."
   ],
   "metadata": {
    "collapsed": false,
    "pycharm": {
     "name": "#%% md\n"
    }
   }
  },
  {
   "cell_type": "code",
   "execution_count": 1,
   "outputs": [
    {
     "name": "stderr",
     "output_type": "stream",
     "text": [
      "\u001B[34m\u001B[1mwandb\u001B[0m: Currently logged in as: \u001B[33maustinbergstrom\u001B[0m (use `wandb login --relogin` to force relogin)\n"
     ]
    }
   ],
   "source": [
    "import src.d04_analysis.distortion_performance_composite as dpc\n",
    "import src.d00_utils.functions as functions\n",
    "import src.d00_utils.definitions as definitions\n",
    "from pathlib import Path\n",
    "import numpy as np"
   ],
   "metadata": {
    "collapsed": false,
    "pycharm": {
     "name": "#%%\n"
    }
   }
  },
  {
   "cell_type": "code",
   "execution_count": 2,
   "outputs": [
    {
     "name": "stdout",
     "output_type": "stream",
     "text": [
      "{\n",
      "   \"identifier\": \"oct-models-mega-1-mega-2\",\n",
      "   \"performance_prediction_result_ids\": [\n",
      "      \"austinbergstrom/sat6_v2/0034-rlt-0019-resnet18_sat6-oct_111_best_loss-0008-tst-r_fr_s6-b_fr_s6-n_fr_s6_noise:v0\",\n",
      "      \"austinbergstrom/sat6_v2/0033-rlt-0016-resnet18_sat6-oct_110_best_loss-0008-tst-r_fr_s6-b_fr_s6-n_fr_s6_noise:v0\",\n",
      "      \"austinbergstrom/sat6_v2/0032-rlt-0016-resnet18_sat6-oct_101_best_loss-0008-tst-r_fr_s6-b_fr_s6-n_fr_s6_noise:v0\",\n",
      "      \"austinbergstrom/sat6_v2/0031-rlt-0012-resnet18_sat6-oct_100_best_loss-0008-tst-r_fr_s6-b_fr_s6-n_fr_s6_noise:v0\",\n",
      "      \"austinbergstrom/sat6_v2/0030-rlt-0016-resnet18_sat6-oct_011_best_loss-0008-tst-r_fr_s6-b_fr_s6-n_fr_s6_noise:v0\",\n",
      "      \"austinbergstrom/sat6_v2/0029-rlt-0012-resnet18_sat6-oct_010_best_loss-0008-tst-r_fr_s6-b_fr_s6-n_fr_s6_noise:v0\",\n",
      "      \"austinbergstrom/sat6_v2/0028-rlt-0012-resnet18_sat6-oct_001_best_loss-0008-tst-r_fr_s6-b_fr_s6-n_fr_s6_noise:v0\",\n",
      "      \"austinbergstrom/sat6_v2/0026-rlt-0012-resnet18_sat6-oct_000_best_loss-0008-tst-r_fr_s6-b_fr_s6-n_fr_s6_noise:v0\"\n",
      "   ],\n",
      "   \"performance_eval_result_ids\": [\n",
      "      \"austinbergstrom/sat6_v2/0042-rlt-0019-resnet18_sat6-oct_111_best_loss-0009-tst-full_range_mega_set_2_noise:v0\",\n",
      "      \"austinbergstrom/sat6_v2/0041-rlt-0016-resnet18_sat6-oct_110_best_loss-0009-tst-full_range_mega_set_2_noise:v0\",\n",
      "      \"austinbergstrom/sat6_v2/0040-rlt-0016-resnet18_sat6-oct_101_best_loss-0009-tst-full_range_mega_set_2_noise:v0\",\n",
      "      \"austinbergstrom/sat6_v2/0039-rlt-0012-resnet18_sat6-oct_100_best_loss-0009-tst-full_range_mega_set_2_noise:v0\",\n",
      "      \"austinbergstrom/sat6_v2/0038-rlt-0016-resnet18_sat6-oct_011_best_loss-0009-tst-full_range_mega_set_2_noise:v0\",\n",
      "      \"austinbergstrom/sat6_v2/0037-rlt-0012-resnet18_sat6-oct_010_best_loss-0009-tst-full_range_mega_set_2_noise:v0\",\n",
      "      \"austinbergstrom/sat6_v2/0036-rlt-0012-resnet18_sat6-oct_001_best_loss-0009-tst-full_range_mega_set_2_noise:v0\",\n",
      "      \"austinbergstrom/sat6_v2/0035-rlt-0012-resnet18_sat6-oct_000_best_loss-0009-tst-full_range_mega_set_2_noise:v0\"\n",
      "   ]\n",
      "}\n"
     ]
    },
    {
     "data": {
      "text/plain": "<IPython.core.display.HTML object>",
      "text/html": "wandb version 0.12.20 is available!  To upgrade, please run:\n $ pip install wandb --upgrade"
     },
     "metadata": {},
     "output_type": "display_data"
    },
    {
     "data": {
      "text/plain": "<IPython.core.display.HTML object>",
      "text/html": "Tracking run with wandb version 0.12.11"
     },
     "metadata": {},
     "output_type": "display_data"
    },
    {
     "data": {
      "text/plain": "<IPython.core.display.HTML object>",
      "text/html": "Run data is saved locally in <code>/home/acb6595/sat6/image-quality-for-deep-learning/src/d04_analysis/wandb/run-20220705_134700-3clepx1k</code>"
     },
     "metadata": {},
     "output_type": "display_data"
    },
    {
     "data": {
      "text/plain": "<IPython.core.display.HTML object>",
      "text/html": "Syncing run <strong><a href=\"https://wandb.ai/austinbergstrom/sat6_v2/runs/3clepx1k\" target=\"_blank\">expert-glade-616</a></strong> to <a href=\"https://wandb.ai/austinbergstrom/sat6_v2\" target=\"_blank\">Weights & Biases</a> (<a href=\"https://wandb.me/run\" target=\"_blank\">docs</a>)<br/>"
     },
     "metadata": {},
     "output_type": "display_data"
    },
    {
     "name": "stdout",
     "output_type": "stream",
     "text": [
      "\n"
     ]
    },
    {
     "data": {
      "text/plain": "<IPython.core.display.HTML object>",
      "text/html": "Waiting for W&B process to finish... <strong style=\"color:green\">(success).</strong>"
     },
     "metadata": {},
     "output_type": "display_data"
    },
    {
     "data": {
      "text/plain": "VBox(children=(Label(value='0.001 MB of 0.001 MB uploaded (0.000 MB deduped)\\r'), FloatProgress(value=1.0, max…",
      "application/vnd.jupyter.widget-view+json": {
       "version_major": 2,
       "version_minor": 0,
       "model_id": "7f760eb617014a22b288ac0fb0543585"
      }
     },
     "metadata": {},
     "output_type": "display_data"
    },
    {
     "data": {
      "text/plain": "<IPython.core.display.HTML object>",
      "text/html": "Synced <strong style=\"color:#cdcd00\">expert-glade-616</strong>: <a href=\"https://wandb.ai/austinbergstrom/sat6_v2/runs/3clepx1k\" target=\"_blank\">https://wandb.ai/austinbergstrom/sat6_v2/runs/3clepx1k</a><br/>Synced 5 W&B file(s), 0 media file(s), 0 artifact file(s) and 0 other file(s)"
     },
     "metadata": {},
     "output_type": "display_data"
    },
    {
     "data": {
      "text/plain": "<IPython.core.display.HTML object>",
      "text/html": "Find logs at: <code>./wandb/run-20220705_134700-3clepx1k/logs</code>"
     },
     "metadata": {},
     "output_type": "display_data"
    },
    {
     "data": {
      "text/plain": "<IPython.core.display.HTML object>",
      "text/html": "wandb version 0.12.20 is available!  To upgrade, please run:\n $ pip install wandb --upgrade"
     },
     "metadata": {},
     "output_type": "display_data"
    },
    {
     "data": {
      "text/plain": "<IPython.core.display.HTML object>",
      "text/html": "Tracking run with wandb version 0.12.11"
     },
     "metadata": {},
     "output_type": "display_data"
    },
    {
     "data": {
      "text/plain": "<IPython.core.display.HTML object>",
      "text/html": "Run data is saved locally in <code>/home/acb6595/sat6/image-quality-for-deep-learning/src/d04_analysis/wandb/run-20220705_134731-zv1rz68r</code>"
     },
     "metadata": {},
     "output_type": "display_data"
    },
    {
     "data": {
      "text/plain": "<IPython.core.display.HTML object>",
      "text/html": "Syncing run <strong><a href=\"https://wandb.ai/austinbergstrom/sat6_v2/runs/zv1rz68r\" target=\"_blank\">dashing-microwave-617</a></strong> to <a href=\"https://wandb.ai/austinbergstrom/sat6_v2\" target=\"_blank\">Weights & Biases</a> (<a href=\"https://wandb.me/run\" target=\"_blank\">docs</a>)<br/>"
     },
     "metadata": {},
     "output_type": "display_data"
    },
    {
     "name": "stdout",
     "output_type": "stream",
     "text": [
      "\n"
     ]
    },
    {
     "data": {
      "text/plain": "<IPython.core.display.HTML object>",
      "text/html": "Waiting for W&B process to finish... <strong style=\"color:green\">(success).</strong>"
     },
     "metadata": {},
     "output_type": "display_data"
    },
    {
     "data": {
      "text/plain": "VBox(children=(Label(value='0.001 MB of 0.001 MB uploaded (0.000 MB deduped)\\r'), FloatProgress(value=1.0, max…",
      "application/vnd.jupyter.widget-view+json": {
       "version_major": 2,
       "version_minor": 0,
       "model_id": "60291969376a44e89d08c12fbfabd10a"
      }
     },
     "metadata": {},
     "output_type": "display_data"
    },
    {
     "data": {
      "text/plain": "<IPython.core.display.HTML object>",
      "text/html": "Synced <strong style=\"color:#cdcd00\">dashing-microwave-617</strong>: <a href=\"https://wandb.ai/austinbergstrom/sat6_v2/runs/zv1rz68r\" target=\"_blank\">https://wandb.ai/austinbergstrom/sat6_v2/runs/zv1rz68r</a><br/>Synced 5 W&B file(s), 0 media file(s), 0 artifact file(s) and 0 other file(s)"
     },
     "metadata": {},
     "output_type": "display_data"
    },
    {
     "data": {
      "text/plain": "<IPython.core.display.HTML object>",
      "text/html": "Find logs at: <code>./wandb/run-20220705_134731-zv1rz68r/logs</code>"
     },
     "metadata": {},
     "output_type": "display_data"
    }
   ],
   "source": [
    "class PseudoArgs(object):  # created because argparse does not seem to play nicely with Jupyter notebooks, and I need an argparse-like object for functions.get_config(args)\n",
    "\n",
    "    def __init__(self, _config_dir, _config_filename):\n",
    "        self.config_dir = _config_dir\n",
    "        self.config_name = _config_filename\n",
    "\n",
    "config_dir = str(Path(definitions.ROOT_DIR, 'image-quality-for-deep-learning', 'src', 'd04_analysis', 'composite_performance_configs'))\n",
    "# config_filename = 'dn161_fr_mega1_mega2_composite.yml'\n",
    "config_filename = 's6_oct_composite_config.yml'\n",
    "\n",
    "args_passed = PseudoArgs(config_dir, config_filename)\n",
    "\n",
    "config = functions.get_config(args_passed)\n",
    "cp, output_dir = dpc.get_composite_performance_result(config=config)"
   ],
   "metadata": {
    "collapsed": false,
    "pycharm": {
     "name": "#%%\n"
    }
   }
  },
  {
   "cell_type": "code",
   "execution_count": 3,
   "outputs": [],
   "source": [
    "def get_chance_performance_bins(_cp, threshold):\n",
    "    res_values, blur_values, noise_values, perf_3d, distortion_array, perf_array, __ = _cp.get_3d_distortion_perf_props(distortion_ids=('res', 'blur', 'noise'), predict_eval_flag='eval')\n",
    "    _chance_indices = np.where(perf_array <= threshold)[0]\n",
    "    _chance_distortion_points = distortion_array[_chance_indices, :]\n",
    "    return _chance_indices, _chance_distortion_points, perf_array, res_values, blur_values, noise_values"
   ],
   "metadata": {
    "collapsed": false,
    "pycharm": {
     "name": "#%%\n"
    }
   }
  },
  {
   "cell_type": "code",
   "execution_count": 4,
   "outputs": [
    {
     "name": "stdout",
     "output_type": "stream",
     "text": [
      "loading existing processed properties\n"
     ]
    }
   ],
   "source": [
    "_threshold = 1.1 * (1 / 6)\n",
    "chance_inds, chance_distortion_points, _perf_array, _res_vals, _blur_vals, _noise_vals = get_chance_performance_bins(cp, threshold=_threshold)"
   ],
   "metadata": {
    "collapsed": false,
    "pycharm": {
     "name": "#%%\n"
    }
   }
  },
  {
   "cell_type": "code",
   "execution_count": 5,
   "outputs": [
    {
     "name": "stdout",
     "output_type": "stream",
     "text": [
      "[]\n"
     ]
    }
   ],
   "source": [
    "print(chance_distortion_points)"
   ],
   "metadata": {
    "collapsed": false,
    "pycharm": {
     "name": "#%%\n"
    }
   }
  },
  {
   "cell_type": "code",
   "execution_count": 6,
   "outputs": [],
   "source": [
    "_perf_values = np.unique(_perf_array)"
   ],
   "metadata": {
    "collapsed": false,
    "pycharm": {
     "name": "#%%\n"
    }
   }
  },
  {
   "cell_type": "code",
   "execution_count": 7,
   "outputs": [
    {
     "data": {
      "text/plain": "array([0.39130434, 0.48      , 0.4864865 , 0.4888889 , 0.5       ,\n       0.516129  , 0.5217391 , 0.5263158 , 0.53125   , 0.5319149 ],\n      dtype=float32)"
     },
     "execution_count": 7,
     "metadata": {},
     "output_type": "execute_result"
    }
   ],
   "source": [
    "_perf_values[:10]"
   ],
   "metadata": {
    "collapsed": false,
    "pycharm": {
     "name": "#%%\n"
    }
   }
  },
  {
   "cell_type": "code",
   "execution_count": 8,
   "outputs": [
    {
     "name": "stdout",
     "output_type": "stream",
     "text": [
      "dist point match: True\n"
     ]
    }
   ],
   "source": [
    "deltas = [_perf_values[i+1] - _perf_values[i] for i in range(len(_perf_values[:100]) - 1)]\n",
    "num_dist_points = len(_perf_array)\n",
    "dist_point_match = num_dist_points == len(_res_vals) * len(_blur_vals) * len(_noise_vals)\n",
    "print('dist point match:', dist_point_match)\n",
    "mean_samples = len(np.ravel(cp.top_1_vec)) / num_dist_points\n",
    "single_image_delta = 1 / mean_samples\n",
    "# print(deltas)"
   ],
   "metadata": {
    "collapsed": false,
    "pycharm": {
     "name": "#%%\n"
    }
   }
  },
  {
   "cell_type": "code",
   "execution_count": 9,
   "outputs": [
    {
     "data": {
      "text/plain": "<Figure size 432x288 with 1 Axes>",
      "image/png": "[encoded data removed]"
     },
     "metadata": {
      "needs_background": "light"
     },
     "output_type": "display_data"
    }
   ],
   "source": [
    "import matplotlib.pyplot as plt\n",
    "plt.figure()\n",
    "plt.plot(deltas, label='measured performance change')\n",
    "plt.plot(single_image_delta * np.ones_like(deltas), label='single image change')\n",
    "plt.xlabel('index')\n",
    "plt.ylabel('performance change')\n",
    "plt.legend()\n",
    "plt.show()"
   ],
   "metadata": {
    "collapsed": false,
    "pycharm": {
     "name": "#%%\n"
    }
   }
  },
  {
   "cell_type": "code",
   "execution_count": 10,
   "outputs": [
    {
     "name": "stdout",
     "output_type": "stream",
     "text": [
      "0.8758225308641975 0.8582731481481481\n"
     ]
    }
   ],
   "source": [
    "top_1 = cp.top_1_vec\n",
    "top_1_predict = cp.top_1_vec_predict\n",
    "\n",
    "acc_eval = np.mean(top_1)\n",
    "acc_predict = np.mean(top_1_predict)\n",
    "print(acc_predict, acc_eval)"
   ],
   "metadata": {
    "collapsed": false,
    "pycharm": {
     "name": "#%%\n"
    }
   }
  },
  {
   "cell_type": "code",
   "execution_count": 11,
   "outputs": [
    {
     "data": {
      "text/plain": "0.8523784"
     },
     "execution_count": 11,
     "metadata": {},
     "output_type": "execute_result"
    }
   ],
   "source": [
    "np.mean(_perf_array)"
   ],
   "metadata": {
    "collapsed": false,
    "pycharm": {
     "name": "#%%\n"
    }
   }
  },
  {
   "cell_type": "code",
   "execution_count": null,
   "outputs": [],
   "source": [],
   "metadata": {
    "collapsed": false,
    "pycharm": {
     "name": "#%%\n"
    }
   }
  }
 ],
 "metadata": {
  "kernelspec": {
   "display_name": "Python 3",
   "language": "python",
   "name": "python3"
  },
  "language_info": {
   "codemirror_mode": {
    "name": "ipython",
    "version": 2
   },
   "file_extension": ".py",
   "mimetype": "text/x-python",
   "name": "python",
   "nbconvert_exporter": "python",
   "pygments_lexer": "ipython2",
   "version": "2.7.6"
  }
 },
 "nbformat": 4,
 "nbformat_minor": 0
}