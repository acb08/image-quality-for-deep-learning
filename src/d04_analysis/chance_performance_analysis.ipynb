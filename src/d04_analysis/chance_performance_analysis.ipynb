{
 "cells": [
  {
   "cell_type": "markdown",
   "source": [
    "Notebook to analyze where in the distortion space performance drops to chance levels."
   ],
   "metadata": {
    "collapsed": false,
    "pycharm": {
     "name": "#%% md\n"
    }
   }
  },
  {
   "cell_type": "code",
   "execution_count": 3,
   "outputs": [],
   "source": [
    "import src.d04_analysis.distortion_performance_composite as dpc\n",
    "import src.d00_utils.functions as functions\n",
    "import src.d00_utils.definitions as definitions\n",
    "from pathlib import Path\n",
    "import numpy as np"
   ],
   "metadata": {
    "collapsed": false,
    "pycharm": {
     "name": "#%%\n"
    }
   }
  },
  {
   "cell_type": "code",
   "execution_count": 4,
   "outputs": [
    {
     "name": "stdout",
     "output_type": "stream",
     "text": [
      "{\n",
      "   \"identifier\": \"composite-result-test\",\n",
      "   \"parent_dir\": \"default\",\n",
      "   \"overwrite_extracted_props\": true,\n",
      "   \"performance_prediction_result_ids\": [\n",
      "      \"0024-rlt-0020-densenet161-full_range_best_loss-0006-tst-r_fr_pl-b_fr_pl-n_fr_pl_noise:v0\"\n",
      "   ],\n",
      "   \"performance_eval_result_ids\": [\n",
      "      \"0022-rlt-0020-densenet161-full_range_best_loss-0008-tst-full_range_mega_set_2_noise:v0\"\n",
      "   ]\n",
      "}\n"
     ]
    },
    {
     "data": {
      "text/plain": "<IPython.core.display.HTML object>",
      "text/html": "wandb version 0.12.21 is available!  To upgrade, please run:\n $ pip install wandb --upgrade"
     },
     "metadata": {},
     "output_type": "display_data"
    },
    {
     "data": {
      "text/plain": "<IPython.core.display.HTML object>",
      "text/html": "Tracking run with wandb version 0.12.11"
     },
     "metadata": {},
     "output_type": "display_data"
    },
    {
     "data": {
      "text/plain": "<IPython.core.display.HTML object>",
      "text/html": "Run data is saved locally in <code>/home/acb6595/places/image-quality-for-deep-learning/src/d04_analysis/wandb/run-20220705_150615-1re0bpa3</code>"
     },
     "metadata": {},
     "output_type": "display_data"
    },
    {
     "data": {
      "text/plain": "<IPython.core.display.HTML object>",
      "text/html": "Syncing run <strong><a href=\"https://wandb.ai/austinbergstrom/places365/runs/1re0bpa3\" target=\"_blank\">noble-bee-499</a></strong> to <a href=\"https://wandb.ai/austinbergstrom/places365\" target=\"_blank\">Weights & Biases</a> (<a href=\"https://wandb.me/run\" target=\"_blank\">docs</a>)<br/>"
     },
     "metadata": {},
     "output_type": "display_data"
    },
    {
     "name": "stdout",
     "output_type": "stream",
     "text": [
      "\n"
     ]
    },
    {
     "data": {
      "text/plain": "<IPython.core.display.HTML object>",
      "text/html": "Waiting for W&B process to finish... <strong style=\"color:green\">(success).</strong>"
     },
     "metadata": {},
     "output_type": "display_data"
    },
    {
     "data": {
      "text/plain": "VBox(children=(Label(value='0.001 MB of 0.001 MB uploaded (0.000 MB deduped)\\r'), FloatProgress(value=1.0, max…",
      "application/vnd.jupyter.widget-view+json": {
       "version_major": 2,
       "version_minor": 0,
       "model_id": "85c10fcf0d664cbc939023da012aeaf1"
      }
     },
     "metadata": {},
     "output_type": "display_data"
    },
    {
     "data": {
      "text/plain": "<IPython.core.display.HTML object>",
      "text/html": "Synced <strong style=\"color:#cdcd00\">noble-bee-499</strong>: <a href=\"https://wandb.ai/austinbergstrom/places365/runs/1re0bpa3\" target=\"_blank\">https://wandb.ai/austinbergstrom/places365/runs/1re0bpa3</a><br/>Synced 5 W&B file(s), 0 media file(s), 0 artifact file(s) and 0 other file(s)"
     },
     "metadata": {},
     "output_type": "display_data"
    },
    {
     "data": {
      "text/plain": "<IPython.core.display.HTML object>",
      "text/html": "Find logs at: <code>./wandb/run-20220705_150615-1re0bpa3/logs</code>"
     },
     "metadata": {},
     "output_type": "display_data"
    },
    {
     "data": {
      "text/plain": "<IPython.core.display.HTML object>",
      "text/html": "wandb version 0.12.21 is available!  To upgrade, please run:\n $ pip install wandb --upgrade"
     },
     "metadata": {},
     "output_type": "display_data"
    },
    {
     "data": {
      "text/plain": "<IPython.core.display.HTML object>",
      "text/html": "Tracking run with wandb version 0.12.11"
     },
     "metadata": {},
     "output_type": "display_data"
    },
    {
     "data": {
      "text/plain": "<IPython.core.display.HTML object>",
      "text/html": "Run data is saved locally in <code>/home/acb6595/places/image-quality-for-deep-learning/src/d04_analysis/wandb/run-20220705_150628-1usj0o39</code>"
     },
     "metadata": {},
     "output_type": "display_data"
    },
    {
     "data": {
      "text/plain": "<IPython.core.display.HTML object>",
      "text/html": "Syncing run <strong><a href=\"https://wandb.ai/austinbergstrom/places365/runs/1usj0o39\" target=\"_blank\">whole-lake-500</a></strong> to <a href=\"https://wandb.ai/austinbergstrom/places365\" target=\"_blank\">Weights & Biases</a> (<a href=\"https://wandb.me/run\" target=\"_blank\">docs</a>)<br/>"
     },
     "metadata": {},
     "output_type": "display_data"
    },
    {
     "name": "stdout",
     "output_type": "stream",
     "text": [
      "\n"
     ]
    },
    {
     "data": {
      "text/plain": "<IPython.core.display.HTML object>",
      "text/html": "Waiting for W&B process to finish... <strong style=\"color:green\">(success).</strong>"
     },
     "metadata": {},
     "output_type": "display_data"
    },
    {
     "data": {
      "text/plain": "VBox(children=(Label(value='0.001 MB of 0.001 MB uploaded (0.000 MB deduped)\\r'), FloatProgress(value=1.0, max…",
      "application/vnd.jupyter.widget-view+json": {
       "version_major": 2,
       "version_minor": 0,
       "model_id": "249df1bdd6614896851b9efddf017116"
      }
     },
     "metadata": {},
     "output_type": "display_data"
    },
    {
     "data": {
      "text/plain": "<IPython.core.display.HTML object>",
      "text/html": "Synced <strong style=\"color:#cdcd00\">whole-lake-500</strong>: <a href=\"https://wandb.ai/austinbergstrom/places365/runs/1usj0o39\" target=\"_blank\">https://wandb.ai/austinbergstrom/places365/runs/1usj0o39</a><br/>Synced 5 W&B file(s), 0 media file(s), 0 artifact file(s) and 0 other file(s)"
     },
     "metadata": {},
     "output_type": "display_data"
    },
    {
     "data": {
      "text/plain": "<IPython.core.display.HTML object>",
      "text/html": "Find logs at: <code>./wandb/run-20220705_150628-1usj0o39/logs</code>"
     },
     "metadata": {},
     "output_type": "display_data"
    }
   ],
   "source": [
    "class PseudoArgs(object):  # created because argparse does not seem to play nicely with Jupyter notebooks, and I need an argparse-like object for functions.get_config(args)\n",
    "\n",
    "    def __init__(self, _config_dir, _config_filename):\n",
    "        self.config_dir = _config_dir\n",
    "        self.config_name = _config_filename\n",
    "\n",
    "config_dir = str(Path(definitions.ROOT_DIR, 'image-quality-for-deep-learning', 'src', 'd04_analysis', 'composite_performance_configs'))\n",
    "config_filename = 'pl_dn161_fr_mega1_mega2_composite.yml'\n",
    "num_classes = 365\n",
    "# config_filename = 's6_oct_composite_config.yml'\n",
    "\n",
    "args_passed = PseudoArgs(config_dir, config_filename)\n",
    "\n",
    "config = functions.get_config(args_passed)\n",
    "cp, output_dir = dpc.get_composite_performance_result(config=config)"
   ],
   "metadata": {
    "collapsed": false,
    "pycharm": {
     "name": "#%%\n"
    }
   }
  },
  {
   "cell_type": "code",
   "execution_count": 5,
   "outputs": [],
   "source": [
    "def get_chance_performance_bins(_cp, threshold):\n",
    "    res_values, blur_values, noise_values, perf_3d, distortion_array, perf_array, __ = _cp.get_3d_distortion_perf_props(distortion_ids=('res', 'blur', 'noise'), predict_eval_flag='eval')\n",
    "    _chance_indices = np.where(perf_array <= threshold)[0]\n",
    "    _chance_distortion_points = distortion_array[_chance_indices, :]\n",
    "    return _chance_indices, _chance_distortion_points, perf_array, res_values, blur_values, noise_values"
   ],
   "metadata": {
    "collapsed": false,
    "pycharm": {
     "name": "#%%\n"
    }
   }
  },
  {
   "cell_type": "code",
   "execution_count": 6,
   "outputs": [
    {
     "name": "stdout",
     "output_type": "stream",
     "text": [
      "loading existing processed properties\n"
     ]
    }
   ],
   "source": [
    "_threshold = 1.5 * (1 / num_classes)\n",
    "chance_inds, chance_distortion_points, _perf_array, _res_vals, _blur_vals, _noise_vals = get_chance_performance_bins(cp, threshold=_threshold)"
   ],
   "metadata": {
    "collapsed": false,
    "pycharm": {
     "name": "#%%\n"
    }
   }
  },
  {
   "cell_type": "code",
   "execution_count": 7,
   "outputs": [
    {
     "name": "stdout",
     "output_type": "stream",
     "text": [
      "[[ 0.09765625  0.835      48.        ]\n",
      " [ 0.09765625  1.325      50.        ]\n",
      " [ 0.09765625  1.57       34.        ]\n",
      " [ 0.09765625  1.815      24.        ]\n",
      " [ 0.09765625  1.815      42.        ]\n",
      " [ 0.09765625  2.06       16.        ]\n",
      " [ 0.09765625  2.06       44.        ]\n",
      " [ 0.09765625  2.06       48.        ]\n",
      " [ 0.09765625  2.305      36.        ]\n",
      " [ 0.09765625  2.55       20.        ]\n",
      " [ 0.09765625  2.55       34.        ]\n",
      " [ 0.09765625  2.55       50.        ]\n",
      " [ 0.09765625  2.795      16.        ]\n",
      " [ 0.09765625  2.795      38.        ]\n",
      " [ 0.09765625  2.795      42.        ]\n",
      " [ 0.09765625  2.795      46.        ]\n",
      " [ 0.09765625  3.04       22.        ]\n",
      " [ 0.09765625  3.04       32.        ]\n",
      " [ 0.09765625  3.04       44.        ]\n",
      " [ 0.09765625  3.04       46.        ]\n",
      " [ 0.09765625  3.285       8.        ]\n",
      " [ 0.09765625  3.285      30.        ]\n",
      " [ 0.09765625  3.285      32.        ]\n",
      " [ 0.09765625  3.285      40.        ]\n",
      " [ 0.09765625  3.285      44.        ]\n",
      " [ 0.09765625  3.53       14.        ]\n",
      " [ 0.09765625  3.53       18.        ]\n",
      " [ 0.09765625  3.53       22.        ]\n",
      " [ 0.09765625  3.53       28.        ]\n",
      " [ 0.09765625  3.53       30.        ]\n",
      " [ 0.09765625  3.775       2.        ]\n",
      " [ 0.09765625  3.775       4.        ]\n",
      " [ 0.09765625  3.775       8.        ]\n",
      " [ 0.09765625  3.775      18.        ]\n",
      " [ 0.09765625  3.775      20.        ]\n",
      " [ 0.09765625  3.775      22.        ]\n",
      " [ 0.09765625  3.775      26.        ]\n",
      " [ 0.09765625  3.775      28.        ]\n",
      " [ 0.09765625  4.02       40.        ]\n",
      " [ 0.09765625  4.02       48.        ]\n",
      " [ 0.09765625  4.265       0.        ]\n",
      " [ 0.09765625  4.265      32.        ]\n",
      " [ 0.09765625  4.265      34.        ]\n",
      " [ 0.09765625  4.265      38.        ]\n",
      " [ 0.09765625  4.265      46.        ]\n",
      " [ 0.09765625  4.265      48.        ]\n",
      " [ 0.09765625  4.265      50.        ]\n",
      " [ 0.09765625  4.51       16.        ]\n",
      " [ 0.09765625  4.51       18.        ]\n",
      " [ 0.09765625  4.51       32.        ]\n",
      " [ 0.09765625  4.51       42.        ]\n",
      " [ 0.09765625  4.755       0.        ]\n",
      " [ 0.09765625  4.755       8.        ]\n",
      " [ 0.09765625  4.755      22.        ]\n",
      " [ 0.09765625  4.755      30.        ]\n",
      " [ 0.09765625  4.755      34.        ]\n",
      " [ 0.09765625  4.755      42.        ]\n",
      " [ 0.09765625  5.          0.        ]\n",
      " [ 0.09765625  5.          2.        ]\n",
      " [ 0.09765625  5.         10.        ]\n",
      " [ 0.09765625  5.         28.        ]\n",
      " [ 0.09765625  5.         30.        ]\n",
      " [ 0.09765625  5.         38.        ]\n",
      " [ 0.09765625  5.         40.        ]\n",
      " [ 0.09765625  5.         50.        ]\n",
      " [ 0.14453125  3.04       46.        ]\n",
      " [ 0.14453125  3.285      28.        ]\n",
      " [ 0.14453125  3.285      30.        ]\n",
      " [ 0.14453125  3.53       10.        ]\n",
      " [ 0.14453125  3.53       32.        ]\n",
      " [ 0.14453125  4.02       40.        ]\n",
      " [ 0.14453125  4.02       50.        ]\n",
      " [ 0.14453125  4.265      38.        ]\n",
      " [ 0.14453125  4.265      40.        ]\n",
      " [ 0.14453125  4.51       34.        ]\n",
      " [ 0.14453125  4.755      26.        ]\n",
      " [ 0.14453125  4.755      30.        ]\n",
      " [ 0.14453125  4.755      32.        ]\n",
      " [ 0.14453125  4.755      48.        ]\n",
      " [ 0.14453125  4.755      50.        ]\n",
      " [ 0.14453125  5.         26.        ]\n",
      " [ 0.19140625  2.55       42.        ]\n",
      " [ 0.19140625  3.285      46.        ]\n",
      " [ 0.19140625  4.265      46.        ]\n",
      " [ 0.19140625  4.265      50.        ]\n",
      " [ 0.19140625  5.         46.        ]\n",
      " [ 0.23828125  4.265      42.        ]]\n"
     ]
    }
   ],
   "source": [
    "print(chance_distortion_points)"
   ],
   "metadata": {
    "collapsed": false,
    "pycharm": {
     "name": "#%%\n"
    }
   }
  },
  {
   "cell_type": "code",
   "execution_count": 8,
   "outputs": [],
   "source": [
    "_perf_values = np.unique(_perf_array)"
   ],
   "metadata": {
    "collapsed": false,
    "pycharm": {
     "name": "#%%\n"
    }
   }
  },
  {
   "cell_type": "code",
   "execution_count": 9,
   "outputs": [
    {
     "data": {
      "text/plain": "array([0.        , 0.01136364, 0.01176471, 0.01204819, 0.01234568,\n       0.0125    , 0.01282051, 0.01298701, 0.01315789, 0.01333333],\n      dtype=float32)"
     },
     "execution_count": 9,
     "metadata": {},
     "output_type": "execute_result"
    }
   ],
   "source": [
    "_perf_values[:10]"
   ],
   "metadata": {
    "collapsed": false,
    "pycharm": {
     "name": "#%%\n"
    }
   }
  },
  {
   "cell_type": "code",
   "execution_count": 10,
   "outputs": [
    {
     "name": "stdout",
     "output_type": "stream",
     "text": [
      "dist point match: True\n"
     ]
    }
   ],
   "source": [
    "deltas = [_perf_values[i+1] - _perf_values[i] for i in range(len(_perf_values[:100]) - 1)]\n",
    "num_dist_points = len(_perf_array)\n",
    "dist_point_match = num_dist_points == len(_res_vals) * len(_blur_vals) * len(_noise_vals)\n",
    "print('dist point match:', dist_point_match)\n",
    "mean_samples = len(np.ravel(cp.top_1_vec)) / num_dist_points\n",
    "single_image_delta = 1 / mean_samples\n",
    "# print(deltas)"
   ],
   "metadata": {
    "collapsed": false,
    "pycharm": {
     "name": "#%%\n"
    }
   }
  },
  {
   "cell_type": "code",
   "execution_count": 11,
   "outputs": [
    {
     "data": {
      "text/plain": "<Figure size 432x288 with 1 Axes>",
      "image/png": "[encoded data removed]"
     },
     "metadata": {
      "needs_background": "light"
     },
     "output_type": "display_data"
    }
   ],
   "source": [
    "import matplotlib.pyplot as plt\n",
    "plt.figure()\n",
    "plt.plot(deltas, label='measured performance change')\n",
    "plt.plot(single_image_delta * np.ones_like(deltas), label='single image change')\n",
    "plt.xlabel('index')\n",
    "plt.ylabel('performance change')\n",
    "plt.legend()\n",
    "plt.show()"
   ],
   "metadata": {
    "collapsed": false,
    "pycharm": {
     "name": "#%%\n"
    }
   }
  },
  {
   "cell_type": "code",
   "execution_count": 12,
   "outputs": [
    {
     "name": "stdout",
     "output_type": "stream",
     "text": [
      "0.26372465753424656 0.26739178082191783\n"
     ]
    }
   ],
   "source": [
    "top_1 = cp.top_1_vec\n",
    "top_1_predict = cp.top_1_vec_predict\n",
    "\n",
    "acc_eval = np.mean(top_1)\n",
    "acc_predict = np.mean(top_1_predict)\n",
    "print(acc_predict, acc_eval)"
   ],
   "metadata": {
    "collapsed": false,
    "pycharm": {
     "name": "#%%\n"
    }
   }
  },
  {
   "cell_type": "code",
   "execution_count": 13,
   "outputs": [
    {
     "data": {
      "text/plain": "0.2646738"
     },
     "execution_count": 13,
     "metadata": {},
     "output_type": "execute_result"
    }
   ],
   "source": [
    "np.mean(_perf_array)"
   ],
   "metadata": {
    "collapsed": false,
    "pycharm": {
     "name": "#%%\n"
    }
   }
  },
  {
   "cell_type": "code",
   "execution_count": 13,
   "outputs": [],
   "source": [],
   "metadata": {
    "collapsed": false,
    "pycharm": {
     "name": "#%%\n"
    }
   }
  },
  {
   "cell_type": "code",
   "execution_count": 10,
   "outputs": [
    {
     "name": "stdout",
     "output_type": "stream",
     "text": [
      "0.8758225308641975 0.8582731481481481\n"
     ]
    }
   ],
   "source": [
    "top_1 = cp.top_1_vec\n",
    "top_1_predict = cp.top_1_vec_predict\n",
    "\n",
    "acc_eval = np.mean(top_1)\n",
    "acc_predict = np.mean(top_1_predict)\n",
    "print(acc_predict, acc_eval)"
   ],
   "metadata": {
    "collapsed": false,
    "pycharm": {
     "name": "#%%\n"
    }
   }
  },
  {
   "cell_type": "code",
   "execution_count": 11,
   "outputs": [
    {
     "data": {
      "text/plain": "0.8523784"
     },
     "execution_count": 11,
     "metadata": {},
     "output_type": "execute_result"
    }
   ],
   "source": [
    "np.mean(_perf_array)"
   ],
   "metadata": {
    "collapsed": false,
    "pycharm": {
     "name": "#%%\n"
    }
   }
  },
  {
   "cell_type": "code",
   "execution_count": null,
   "outputs": [],
   "source": [],
   "metadata": {
    "collapsed": false,
    "pycharm": {
     "name": "#%%\n"
    }
   }
  }
 ],
 "metadata": {
  "kernelspec": {
   "display_name": "Python 3",
   "language": "python",
   "name": "python3"
  },
  "language_info": {
   "codemirror_mode": {
    "name": "ipython",
    "version": 2
   },
   "file_extension": ".py",
   "mimetype": "text/x-python",
   "name": "python",
   "nbconvert_exporter": "python",
   "pygments_lexer": "ipython2",
   "version": "2.7.6"
  }
 },
 "nbformat": 4,
 "nbformat_minor": 0
}