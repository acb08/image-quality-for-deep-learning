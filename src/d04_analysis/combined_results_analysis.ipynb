{
 "cells": [
  {
   "cell_type": "code",
   "execution_count": 1,
   "outputs": [
    {
     "name": "stderr",
     "output_type": "stream",
     "text": [
      "\u001B[34m\u001B[1mwandb\u001B[0m: Currently logged in as: \u001B[33maustinbergstrom\u001B[0m (use `wandb login --relogin` to force relogin)\n"
     ]
    }
   ],
   "source": [
    "from src.d00_utils import definitions as defs\n",
    "from src.d04_analysis import distortion_performance as dp\n",
    "from src.d04_analysis import tools3d\n",
    "import numpy as np\n",
    "import matplotlib.pyplot as plt\n",
    "import importlib"
   ],
   "metadata": {
    "collapsed": false,
    "pycharm": {
     "name": "#%%\n"
    }
   }
  },
  {
   "cell_type": "code",
   "execution_count": 2,
   "outputs": [],
   "source": [
    "from pathlib import Path\n",
    "import importlib"
   ],
   "metadata": {
    "collapsed": false,
    "pycharm": {
     "name": "#%%\n"
    }
   }
  },
  {
   "cell_type": "code",
   "execution_count": 3,
   "outputs": [
    {
     "data": {
      "text/plain": "<IPython.core.display.HTML object>",
      "text/html": "Tracking run with wandb version 0.12.11"
     },
     "metadata": {},
     "output_type": "display_data"
    },
    {
     "data": {
      "text/plain": "<IPython.core.display.HTML object>",
      "text/html": "Run data is saved locally in <code>/home/acb6595/sat6/image-quality-for-deep-learning/src/d04_analysis/wandb/run-20220321_085925-19fz6qe5</code>"
     },
     "metadata": {},
     "output_type": "display_data"
    },
    {
     "data": {
      "text/plain": "<IPython.core.display.HTML object>",
      "text/html": "Syncing run <strong><a href=\"https://wandb.ai/austinbergstrom/sat6/runs/19fz6qe5\" target=\"_blank\">different-silence-317</a></strong> to <a href=\"https://wandb.ai/austinbergstrom/sat6\" target=\"_blank\">Weights & Biases</a> (<a href=\"https://wandb.me/run\" target=\"_blank\">docs</a>)<br/>"
     },
     "metadata": {},
     "output_type": "display_data"
    },
    {
     "name": "stdout",
     "output_type": "stream",
     "text": [
      "\n"
     ]
    },
    {
     "data": {
      "text/plain": "<IPython.core.display.HTML object>",
      "text/html": "Waiting for W&B process to finish... <strong style=\"color:green\">(success).</strong>"
     },
     "metadata": {},
     "output_type": "display_data"
    },
    {
     "data": {
      "text/plain": "VBox(children=(Label(value='0.001 MB of 0.001 MB uploaded (0.000 MB deduped)\\r'), FloatProgress(value=1.0, max…",
      "application/vnd.jupyter.widget-view+json": {
       "version_major": 2,
       "version_minor": 0,
       "model_id": "96af9ff836854a4a83337b50648d09b0"
      }
     },
     "metadata": {},
     "output_type": "display_data"
    },
    {
     "data": {
      "text/plain": "<IPython.core.display.HTML object>",
      "text/html": "Synced <strong style=\"color:#cdcd00\">different-silence-317</strong>: <a href=\"https://wandb.ai/austinbergstrom/sat6/runs/19fz6qe5\" target=\"_blank\">https://wandb.ai/austinbergstrom/sat6/runs/19fz6qe5</a><br/>Synced 5 W&B file(s), 0 media file(s), 0 artifact file(s) and 0 other file(s)"
     },
     "metadata": {},
     "output_type": "display_data"
    },
    {
     "data": {
      "text/plain": "<IPython.core.display.HTML object>",
      "text/html": "Find logs at: <code>./wandb/run-20220321_085925-19fz6qe5/logs</code>"
     },
     "metadata": {},
     "output_type": "display_data"
    },
    {
     "data": {
      "text/plain": "<IPython.core.display.HTML object>",
      "text/html": "Tracking run with wandb version 0.12.11"
     },
     "metadata": {},
     "output_type": "display_data"
    },
    {
     "data": {
      "text/plain": "<IPython.core.display.HTML object>",
      "text/html": "Run data is saved locally in <code>/home/acb6595/sat6/image-quality-for-deep-learning/src/d04_analysis/wandb/run-20220321_085937-2ct4bpp7</code>"
     },
     "metadata": {},
     "output_type": "display_data"
    },
    {
     "data": {
      "text/plain": "<IPython.core.display.HTML object>",
      "text/html": "Syncing run <strong><a href=\"https://wandb.ai/austinbergstrom/sat6/runs/2ct4bpp7\" target=\"_blank\">misunderstood-oath-318</a></strong> to <a href=\"https://wandb.ai/austinbergstrom/sat6\" target=\"_blank\">Weights & Biases</a> (<a href=\"https://wandb.me/run\" target=\"_blank\">docs</a>)<br/>"
     },
     "metadata": {},
     "output_type": "display_data"
    },
    {
     "name": "stdout",
     "output_type": "stream",
     "text": [
      "\n"
     ]
    },
    {
     "data": {
      "text/plain": "<IPython.core.display.HTML object>",
      "text/html": "Waiting for W&B process to finish... <strong style=\"color:green\">(success).</strong>"
     },
     "metadata": {},
     "output_type": "display_data"
    },
    {
     "data": {
      "text/plain": "VBox(children=(Label(value='0.001 MB of 0.001 MB uploaded (0.000 MB deduped)\\r'), FloatProgress(value=1.0, max…",
      "application/vnd.jupyter.widget-view+json": {
       "version_major": 2,
       "version_minor": 0,
       "model_id": "a8379d93266a43d3b0b9e6307b3d8ec3"
      }
     },
     "metadata": {},
     "output_type": "display_data"
    },
    {
     "data": {
      "text/plain": "<IPython.core.display.HTML object>",
      "text/html": "Synced <strong style=\"color:#cdcd00\">misunderstood-oath-318</strong>: <a href=\"https://wandb.ai/austinbergstrom/sat6/runs/2ct4bpp7\" target=\"_blank\">https://wandb.ai/austinbergstrom/sat6/runs/2ct4bpp7</a><br/>Synced 5 W&B file(s), 0 media file(s), 0 artifact file(s) and 0 other file(s)"
     },
     "metadata": {},
     "output_type": "display_data"
    },
    {
     "data": {
      "text/plain": "<IPython.core.display.HTML object>",
      "text/html": "Find logs at: <code>./wandb/run-20220321_085937-2ct4bpp7/logs</code>"
     },
     "metadata": {},
     "output_type": "display_data"
    },
    {
     "data": {
      "text/plain": "<IPython.core.display.HTML object>",
      "text/html": "Tracking run with wandb version 0.12.11"
     },
     "metadata": {},
     "output_type": "display_data"
    },
    {
     "data": {
      "text/plain": "<IPython.core.display.HTML object>",
      "text/html": "Run data is saved locally in <code>/home/acb6595/sat6/image-quality-for-deep-learning/src/d04_analysis/wandb/run-20220321_085949-376tz15f</code>"
     },
     "metadata": {},
     "output_type": "display_data"
    },
    {
     "data": {
      "text/plain": "<IPython.core.display.HTML object>",
      "text/html": "Syncing run <strong><a href=\"https://wandb.ai/austinbergstrom/sat6/runs/376tz15f\" target=\"_blank\">deep-eon-319</a></strong> to <a href=\"https://wandb.ai/austinbergstrom/sat6\" target=\"_blank\">Weights & Biases</a> (<a href=\"https://wandb.me/run\" target=\"_blank\">docs</a>)<br/>"
     },
     "metadata": {},
     "output_type": "display_data"
    },
    {
     "name": "stdout",
     "output_type": "stream",
     "text": [
      "\n"
     ]
    },
    {
     "data": {
      "text/plain": "<IPython.core.display.HTML object>",
      "text/html": "Waiting for W&B process to finish... <strong style=\"color:green\">(success).</strong>"
     },
     "metadata": {},
     "output_type": "display_data"
    },
    {
     "data": {
      "text/plain": "VBox(children=(Label(value='0.001 MB of 0.001 MB uploaded (0.000 MB deduped)\\r'), FloatProgress(value=1.0, max…",
      "application/vnd.jupyter.widget-view+json": {
       "version_major": 2,
       "version_minor": 0,
       "model_id": "a2c8d1b81150463cafea3f2dd00efee4"
      }
     },
     "metadata": {},
     "output_type": "display_data"
    },
    {
     "data": {
      "text/plain": "<IPython.core.display.HTML object>",
      "text/html": "Synced <strong style=\"color:#cdcd00\">deep-eon-319</strong>: <a href=\"https://wandb.ai/austinbergstrom/sat6/runs/376tz15f\" target=\"_blank\">https://wandb.ai/austinbergstrom/sat6/runs/376tz15f</a><br/>Synced 5 W&B file(s), 0 media file(s), 0 artifact file(s) and 0 other file(s)"
     },
     "metadata": {},
     "output_type": "display_data"
    },
    {
     "data": {
      "text/plain": "<IPython.core.display.HTML object>",
      "text/html": "Find logs at: <code>./wandb/run-20220321_085949-376tz15f/logs</code>"
     },
     "metadata": {},
     "output_type": "display_data"
    },
    {
     "data": {
      "text/plain": "<IPython.core.display.HTML object>",
      "text/html": "Tracking run with wandb version 0.12.11"
     },
     "metadata": {},
     "output_type": "display_data"
    },
    {
     "data": {
      "text/plain": "<IPython.core.display.HTML object>",
      "text/html": "Run data is saved locally in <code>/home/acb6595/sat6/image-quality-for-deep-learning/src/d04_analysis/wandb/run-20220321_090004-p2u0x3o1</code>"
     },
     "metadata": {},
     "output_type": "display_data"
    },
    {
     "data": {
      "text/plain": "<IPython.core.display.HTML object>",
      "text/html": "Syncing run <strong><a href=\"https://wandb.ai/austinbergstrom/sat6/runs/p2u0x3o1\" target=\"_blank\">wandering-energy-320</a></strong> to <a href=\"https://wandb.ai/austinbergstrom/sat6\" target=\"_blank\">Weights & Biases</a> (<a href=\"https://wandb.me/run\" target=\"_blank\">docs</a>)<br/>"
     },
     "metadata": {},
     "output_type": "display_data"
    },
    {
     "name": "stdout",
     "output_type": "stream",
     "text": [
      "\n"
     ]
    },
    {
     "data": {
      "text/plain": "<IPython.core.display.HTML object>",
      "text/html": "Waiting for W&B process to finish... <strong style=\"color:green\">(success).</strong>"
     },
     "metadata": {},
     "output_type": "display_data"
    },
    {
     "data": {
      "text/plain": "VBox(children=(Label(value='0.001 MB of 0.001 MB uploaded (0.000 MB deduped)\\r'), FloatProgress(value=1.0, max…",
      "application/vnd.jupyter.widget-view+json": {
       "version_major": 2,
       "version_minor": 0,
       "model_id": "f113ef10775d49cdba284deec856da75"
      }
     },
     "metadata": {},
     "output_type": "display_data"
    },
    {
     "data": {
      "text/plain": "<IPython.core.display.HTML object>",
      "text/html": "Synced <strong style=\"color:#cdcd00\">wandering-energy-320</strong>: <a href=\"https://wandb.ai/austinbergstrom/sat6/runs/p2u0x3o1\" target=\"_blank\">https://wandb.ai/austinbergstrom/sat6/runs/p2u0x3o1</a><br/>Synced 5 W&B file(s), 0 media file(s), 0 artifact file(s) and 0 other file(s)"
     },
     "metadata": {},
     "output_type": "display_data"
    },
    {
     "data": {
      "text/plain": "<IPython.core.display.HTML object>",
      "text/html": "Find logs at: <code>./wandb/run-20220321_090004-p2u0x3o1/logs</code>"
     },
     "metadata": {},
     "output_type": "display_data"
    },
    {
     "data": {
      "text/plain": "<IPython.core.display.HTML object>",
      "text/html": "Tracking run with wandb version 0.12.11"
     },
     "metadata": {},
     "output_type": "display_data"
    },
    {
     "data": {
      "text/plain": "<IPython.core.display.HTML object>",
      "text/html": "Run data is saved locally in <code>/home/acb6595/sat6/image-quality-for-deep-learning/src/d04_analysis/wandb/run-20220321_090019-85wrlmek</code>"
     },
     "metadata": {},
     "output_type": "display_data"
    },
    {
     "data": {
      "text/plain": "<IPython.core.display.HTML object>",
      "text/html": "Syncing run <strong><a href=\"https://wandb.ai/austinbergstrom/sat6/runs/85wrlmek\" target=\"_blank\">bumbling-sponge-321</a></strong> to <a href=\"https://wandb.ai/austinbergstrom/sat6\" target=\"_blank\">Weights & Biases</a> (<a href=\"https://wandb.me/run\" target=\"_blank\">docs</a>)<br/>"
     },
     "metadata": {},
     "output_type": "display_data"
    },
    {
     "name": "stdout",
     "output_type": "stream",
     "text": [
      "\n"
     ]
    },
    {
     "data": {
      "text/plain": "<IPython.core.display.HTML object>",
      "text/html": "Waiting for W&B process to finish... <strong style=\"color:green\">(success).</strong>"
     },
     "metadata": {},
     "output_type": "display_data"
    },
    {
     "data": {
      "text/plain": "VBox(children=(Label(value='0.001 MB of 0.001 MB uploaded (0.000 MB deduped)\\r'), FloatProgress(value=1.0, max…",
      "application/vnd.jupyter.widget-view+json": {
       "version_major": 2,
       "version_minor": 0,
       "model_id": "433b1b384fbd445080c4af05299ee246"
      }
     },
     "metadata": {},
     "output_type": "display_data"
    },
    {
     "data": {
      "text/plain": "<IPython.core.display.HTML object>",
      "text/html": "Synced <strong style=\"color:#cdcd00\">bumbling-sponge-321</strong>: <a href=\"https://wandb.ai/austinbergstrom/sat6/runs/85wrlmek\" target=\"_blank\">https://wandb.ai/austinbergstrom/sat6/runs/85wrlmek</a><br/>Synced 5 W&B file(s), 0 media file(s), 0 artifact file(s) and 0 other file(s)"
     },
     "metadata": {},
     "output_type": "display_data"
    },
    {
     "data": {
      "text/plain": "<IPython.core.display.HTML object>",
      "text/html": "Find logs at: <code>./wandb/run-20220321_090019-85wrlmek/logs</code>"
     },
     "metadata": {},
     "output_type": "display_data"
    }
   ],
   "source": [
    "# initialize ModelDistortionPerformanceResult instances for each of the model results to be considered\n",
    "\n",
    "endpoint_artifact_id = \"0018_rlt_0030_mdl_rst4_b5_nf5_best_loss_0040_tst_rs1_bcs3_nfs3_noise\"\n",
    "endpoint_identifier = 'endpoint'\n",
    "endpoint, __ = dp.get_model_distortion_performance_result(endpoint_artifact_id, endpoint_identifier)\n",
    "\n",
    "full_range_artifact_id = \"0017_rlt_0027_mdl_rst1_b10_nf11_best_loss_0040_tst_rs1_bcs3_nfs3_noise\"\n",
    "full_range_identifier = 'full-range'\n",
    "full_range, __ = dp.get_model_distortion_performance_result(full_range_artifact_id, full_range_identifier)\n",
    "\n",
    "mid_band_artifact_id = \"0016_rlt_0028_mdl_rst2_b11_nf10_best_loss_0040_tst_rs1_bcs3_nfs3_noise\"\n",
    "mid_band_identifier = 'mid-band'\n",
    "mid_band, __ = dp.get_model_distortion_performance_result(mid_band_artifact_id, mid_band_identifier)\n",
    "\n",
    "midpoint_artifact_id = \"0015_rlt_0029_mdl_rst3_b4_nf4_best_loss_0040_tst_rs1_bcs3_nfs3_noise\"\n",
    "midpoint_identifier = 'midpoint'\n",
    "midpoint, __ = dp.get_model_distortion_performance_result(midpoint_artifact_id, midpoint_identifier)\n",
    "\n",
    "pre_trained_artifact_id = \"0014_rlt_0001_0040_tst_rs1_bcs3_nfs3_noise\"\n",
    "pre_trained_identifier = 'pre-trained'\n",
    "pre_trained, __ = dp.get_model_distortion_performance_result(pre_trained_artifact_id, pre_trained_identifier)"
   ],
   "metadata": {
    "collapsed": false,
    "pycharm": {
     "name": "#%%\n"
    }
   }
  },
  {
   "cell_type": "code",
   "execution_count": 4,
   "outputs": [],
   "source": [
    "output_dir = Path(defs.ROOT_DIR, defs.REL_PATHS['analysis'], 'combined')\n",
    "if not output_dir.is_dir():\n",
    "    Path.mkdir(output_dir)\n",
    "    print('created ', str(output_dir))"
   ],
   "metadata": {
    "collapsed": false,
    "pycharm": {
     "name": "#%%\n"
    }
   }
  },
  {
   "cell_type": "code",
   "execution_count": null,
   "outputs": [],
   "source": [
    "# place results into a single list for easier iteration\n",
    "# results = [pre_trained, midpoint, mid_band, full_range, endpoint]'\n",
    "importlib.reload(dp)"
   ],
   "metadata": {
    "collapsed": false,
    "pycharm": {
     "name": "#%%\n",
     "is_executing": true
    }
   }
  },
  {
   "cell_type": "code",
   "execution_count": 6,
   "outputs": [],
   "source": [
    "# create some helper functions to plot results together with minimal pain\n",
    "def create_identifier(perf_results, dim_tag=None):\n",
    "\n",
    "    if dim_tag:\n",
    "        identifier = dim_tag\n",
    "    else:\n",
    "        identifier = None\n",
    "\n",
    "    for perf_result in perf_results:\n",
    "        if not identifier:\n",
    "            identifier = str(perf_result)\n",
    "        else:\n",
    "            identifier = f'{identifier}_{str(perf_result)}'\n",
    "\n",
    "    # if dim_tag:\n",
    "    #     identifier = f'{identifier}_{dim_tag}'\n",
    "\n",
    "    return identifier\n",
    "\n",
    "def plot_results_together(model_results, directory=None, make_subdir=False, dim_tag='2d', legend_loc='best'):\n",
    "\n",
    "    if dim_tag == '2d':\n",
    "        identifier = create_identifier(model_results)\n",
    "    else:\n",
    "        identifier = create_identifier(model_results, dim_tag=dim_tag)\n",
    "\n",
    "    if directory and make_subdir:\n",
    "        sub_dir = Path(directory, identifier)\n",
    "        if not sub_dir.is_dir():\n",
    "            Path.mkdir(sub_dir)\n",
    "\n",
    "        directory = sub_dir\n",
    "\n",
    "    if dim_tag == '2d':\n",
    "        dp.plot_perf_2d_multi_result(model_results, directory=directory, identifier=identifier)\n",
    "    else:\n",
    "        dp.plot_perf_1d_multi_result(model_results, directory=directory, identifier=identifier, legend_loc=legend_loc)\n"
   ],
   "metadata": {
    "collapsed": false,
    "pycharm": {
     "name": "#%%\n"
    }
   }
  },
  {
   "cell_type": "code",
   "execution_count": null,
   "outputs": [],
   "source": [
    "# plot pre-trained and full range model results together\n",
    "plot_results_together([pre_trained, full_range], directory=output_dir, make_subdir=True)"
   ],
   "metadata": {
    "collapsed": false,
    "pycharm": {
     "name": "#%%\n",
     "is_executing": true
    }
   }
  },
  {
   "cell_type": "code",
   "execution_count": null,
   "outputs": [],
   "source": [
    "# plot pre-trained and endpoint results together\n",
    "plot_results_together([pre_trained, endpoint], directory=output_dir, make_subdir=True)"
   ],
   "metadata": {
    "collapsed": false,
    "pycharm": {
     "name": "#%%\n",
     "is_executing": true
    }
   }
  },
  {
   "cell_type": "code",
   "execution_count": null,
   "outputs": [],
   "source": [
    "# plot midpoint and mid-band together\n",
    "plot_results_together([midpoint, mid_band], directory=output_dir, make_subdir=True)"
   ],
   "metadata": {
    "collapsed": false,
    "pycharm": {
     "name": "#%%\n",
     "is_executing": true
    }
   }
  },
  {
   "cell_type": "code",
   "execution_count": null,
   "outputs": [],
   "source": [
    "# plot full range with everything else\n",
    "plot_results_together([full_range, pre_trained], directory=output_dir, make_subdir=True)\n",
    "plot_results_together([full_range, midpoint], directory=output_dir, make_subdir=True)\n",
    "plot_results_together([full_range, mid_band], directory=output_dir, make_subdir=True)\n",
    "plot_results_together([full_range, endpoint], directory=output_dir, make_subdir=True)"
   ],
   "metadata": {
    "collapsed": false,
    "pycharm": {
     "name": "#%%\n",
     "is_executing": true
    }
   }
  },
  {
   "cell_type": "code",
   "execution_count": null,
   "outputs": [],
   "source": [
    "plot_results_together([full_range, mid_band, midpoint, endpoint, pre_trained], directory=output_dir, make_subdir=True)"
   ],
   "metadata": {
    "collapsed": false,
    "pycharm": {
     "name": "#%%\n",
     "is_executing": true
    }
   }
  },
  {
   "cell_type": "code",
   "execution_count": null,
   "outputs": [],
   "source": [
    "plot_results_together([full_range, pre_trained], directory=output_dir, make_subdir=True, dim_tag='1d')"
   ],
   "metadata": {
    "collapsed": false,
    "pycharm": {
     "name": "#%%\n",
     "is_executing": true
    }
   }
  },
  {
   "cell_type": "code",
   "execution_count": null,
   "outputs": [],
   "source": [
    "importlib.reload(dp)\n",
    "plot_results_together([full_range, mid_band, midpoint, endpoint, pre_trained], directory=output_dir, make_subdir=True, dim_tag='1d', legend_loc='lower left')"
   ],
   "metadata": {
    "collapsed": false,
    "pycharm": {
     "name": "#%%\n",
     "is_executing": true
    }
   }
  },
  {
   "cell_type": "code",
   "execution_count": null,
   "outputs": [],
   "source": [
    "plot_results_together([full_range, mid_band, midpoint, endpoint], directory=output_dir, make_subdir=True, dim_tag='1d',\n",
    "                      legend_loc='lower left')"
   ],
   "metadata": {
    "collapsed": false,
    "pycharm": {
     "name": "#%%\n",
     "is_executing": true
    }
   }
  },
  {
   "cell_type": "code",
   "execution_count": null,
   "outputs": [],
   "source": [],
   "metadata": {
    "collapsed": false,
    "pycharm": {
     "name": "#%%\n"
    }
   }
  }
 ],
 "metadata": {
  "kernelspec": {
   "display_name": "Python 3",
   "language": "python",
   "name": "python3"
  },
  "language_info": {
   "codemirror_mode": {
    "name": "ipython",
    "version": 2
   },
   "file_extension": ".py",
   "mimetype": "text/x-python",
   "name": "python",
   "nbconvert_exporter": "python",
   "pygments_lexer": "ipython2",
   "version": "2.7.6"
  }
 },
 "nbformat": 4,
 "nbformat_minor": 0
}