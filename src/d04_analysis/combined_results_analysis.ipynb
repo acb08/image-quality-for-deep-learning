{
 "cells": [
  {
   "cell_type": "markdown",
   "source": [],
   "metadata": {
    "collapsed": false,
    "pycharm": {
     "name": "#%% md\n"
    }
   }
  },
  {
   "cell_type": "code",
   "execution_count": 21,
   "outputs": [],
   "source": [
    "from src.d00_utils import definitions as defs\n",
    "from src.d04_analysis import distortion_performance as dp\n",
    "from src.d04_analysis.plot import plot_results_together\n",
    "import src.d04_analysis.analysis_functions\n",
    "import numpy as np\n",
    "import matplotlib.pyplot as plt\n",
    "import importlib"
   ],
   "metadata": {
    "collapsed": false,
    "pycharm": {
     "name": "#%%\n"
    }
   }
  },
  {
   "cell_type": "code",
   "execution_count": 22,
   "outputs": [],
   "source": [
    "from pathlib import Path"
   ],
   "metadata": {
    "collapsed": false,
    "pycharm": {
     "name": "#%%\n"
    }
   }
  },
  {
   "cell_type": "code",
   "execution_count": null,
   "outputs": [],
   "source": [
    "# initialize ModelDistortionPerformanceResult instances for each of the model results to be considered\n",
    "\n",
    "endpoint_artifact_id = \"0018_rlt_0030_mdl_rst4_b5_nf5_best_loss_0040_tst_rs1_bcs3_nfs3_noise\"\n",
    "endpoint_identifier = 'endpoint'\n",
    "endpoint, __ = dp.get_model_distortion_performance_result(endpoint_artifact_id, endpoint_identifier)\n",
    "\n",
    "full_range_artifact_id = \"0017_rlt_0027_mdl_rst1_b10_nf11_best_loss_0040_tst_rs1_bcs3_nfs3_noise\"\n",
    "full_range_identifier = 'full-range'\n",
    "full_range, __ = dp.get_model_distortion_performance_result(full_range_artifact_id, full_range_identifier)\n",
    "\n",
    "mid_band_artifact_id = \"0016_rlt_0028_mdl_rst2_b11_nf10_best_loss_0040_tst_rs1_bcs3_nfs3_noise\"\n",
    "mid_band_identifier = 'mid-band'\n",
    "mid_band, __ = dp.get_model_distortion_performance_result(mid_band_artifact_id, mid_band_identifier)\n",
    "\n",
    "midpoint_artifact_id = \"0015_rlt_0029_mdl_rst3_b4_nf4_best_loss_0040_tst_rs1_bcs3_nfs3_noise\"\n",
    "midpoint_identifier = 'midpoint'\n",
    "midpoint, __ = dp.get_model_distortion_performance_result(midpoint_artifact_id, midpoint_identifier)\n",
    "\n",
    "pre_trained_artifact_id = \"0014_rlt_0001_0040_tst_rs1_bcs3_nfs3_noise\"\n",
    "pre_trained_identifier = 'pre-trained'\n",
    "pre_trained, __ = dp.get_model_distortion_performance_result(pre_trained_artifact_id, pre_trained_identifier)"
   ],
   "metadata": {
    "collapsed": false,
    "pycharm": {
     "name": "#%%\n"
    }
   }
  },
  {
   "cell_type": "code",
   "execution_count": null,
   "outputs": [],
   "source": [
    "default_lr_artifact_id = \"0012-rlt-0001-mdl-resnet50_sat6_best_loss-0008-tst-r_fr_s6-b_fr_s6-n_fr_s6_noise\"  # sat6\n",
    "default_lr_identifier = 'RN50-pre-trained'\n",
    "default_lr, __ = dp.get_model_distortion_performance_result(default_lr_artifact_id, default_lr_identifier)\n",
    "\n",
    "low_lr_early_stop_artifact_id = '0013-rlt-0003-resnet50_sat6-pretrain_lower_lr-0008-tst-r_fr_s6-b_fr_s6-n_fr_s6_noise'  # sat6\n",
    "low_lr_early_stop_identifier =  'RN50-pt-low-lr-early-stop'\n",
    "low_lr_early_stop, __ = dp.get_model_distortion_performance_result(low_lr_early_stop_artifact_id , low_lr_early_stop_identifier)\n",
    "\n",
    "low_lr_artifact_id = '0014-rlt-0004-resnet50_sat6-pretrain_lower_lr_best_loss-0008-tst-r_fr_s6-b_fr_s6-n_fr_s6_noise'  # sat6\n",
    "low_lr_identifier = 'RN50-pt-low-lr'\n",
    "low_lr, __ = dp.get_model_distortion_performance_result(low_lr_artifact_id , low_lr_identifier)"
   ],
   "metadata": {
    "collapsed": false,
    "pycharm": {
     "name": "#%%\n"
    }
   }
  },
  {
   "cell_type": "code",
   "execution_count": 23,
   "outputs": [
    {
     "data": {
      "text/plain": "<IPython.core.display.HTML object>",
      "text/html": "wandb version 0.12.16 is available!  To upgrade, please run:\n $ pip install wandb --upgrade"
     },
     "metadata": {},
     "output_type": "display_data"
    },
    {
     "data": {
      "text/plain": "<IPython.core.display.HTML object>",
      "text/html": "Tracking run with wandb version 0.12.11"
     },
     "metadata": {},
     "output_type": "display_data"
    },
    {
     "data": {
      "text/plain": "<IPython.core.display.HTML object>",
      "text/html": "Run data is saved locally in <code>/home/acb6595/sat6/image-quality-for-deep-learning/src/d04_analysis/wandb/run-20220520_155121-2kcd51ch</code>"
     },
     "metadata": {},
     "output_type": "display_data"
    },
    {
     "data": {
      "text/plain": "<IPython.core.display.HTML object>",
      "text/html": "Syncing run <strong><a href=\"https://wandb.ai/austinbergstrom/sat6_v2/runs/2kcd51ch\" target=\"_blank\">helpful-cloud-301</a></strong> to <a href=\"https://wandb.ai/austinbergstrom/sat6_v2\" target=\"_blank\">Weights & Biases</a> (<a href=\"https://wandb.me/run\" target=\"_blank\">docs</a>)<br/>"
     },
     "metadata": {},
     "output_type": "display_data"
    },
    {
     "name": "stdout",
     "output_type": "stream",
     "text": [
      "\n"
     ]
    },
    {
     "data": {
      "text/plain": "<IPython.core.display.HTML object>",
      "text/html": "Waiting for W&B process to finish... <strong style=\"color:green\">(success).</strong>"
     },
     "metadata": {},
     "output_type": "display_data"
    },
    {
     "data": {
      "text/plain": "VBox(children=(Label(value='0.001 MB of 0.001 MB uploaded (0.000 MB deduped)\\r'), FloatProgress(value=1.0, max…",
      "application/vnd.jupyter.widget-view+json": {
       "version_major": 2,
       "version_minor": 0,
       "model_id": "58f5c4f25f9044618547222166ea092e"
      }
     },
     "metadata": {},
     "output_type": "display_data"
    },
    {
     "data": {
      "text/plain": "<IPython.core.display.HTML object>",
      "text/html": "Synced <strong style=\"color:#cdcd00\">helpful-cloud-301</strong>: <a href=\"https://wandb.ai/austinbergstrom/sat6_v2/runs/2kcd51ch\" target=\"_blank\">https://wandb.ai/austinbergstrom/sat6_v2/runs/2kcd51ch</a><br/>Synced 5 W&B file(s), 0 media file(s), 0 artifact file(s) and 0 other file(s)"
     },
     "metadata": {},
     "output_type": "display_data"
    },
    {
     "data": {
      "text/plain": "<IPython.core.display.HTML object>",
      "text/html": "Find logs at: <code>./wandb/run-20220520_155121-2kcd51ch/logs</code>"
     },
     "metadata": {},
     "output_type": "display_data"
    },
    {
     "data": {
      "text/plain": "<IPython.core.display.HTML object>",
      "text/html": "wandb version 0.12.16 is available!  To upgrade, please run:\n $ pip install wandb --upgrade"
     },
     "metadata": {},
     "output_type": "display_data"
    },
    {
     "data": {
      "text/plain": "<IPython.core.display.HTML object>",
      "text/html": "Tracking run with wandb version 0.12.11"
     },
     "metadata": {},
     "output_type": "display_data"
    },
    {
     "data": {
      "text/plain": "<IPython.core.display.HTML object>",
      "text/html": "Run data is saved locally in <code>/home/acb6595/sat6/image-quality-for-deep-learning/src/d04_analysis/wandb/run-20220520_155135-31oe9q2s</code>"
     },
     "metadata": {},
     "output_type": "display_data"
    },
    {
     "data": {
      "text/plain": "<IPython.core.display.HTML object>",
      "text/html": "Syncing run <strong><a href=\"https://wandb.ai/austinbergstrom/sat6_v2/runs/31oe9q2s\" target=\"_blank\">flowing-salad-302</a></strong> to <a href=\"https://wandb.ai/austinbergstrom/sat6_v2\" target=\"_blank\">Weights & Biases</a> (<a href=\"https://wandb.me/run\" target=\"_blank\">docs</a>)<br/>"
     },
     "metadata": {},
     "output_type": "display_data"
    },
    {
     "name": "stdout",
     "output_type": "stream",
     "text": [
      "\n"
     ]
    },
    {
     "data": {
      "text/plain": "<IPython.core.display.HTML object>",
      "text/html": "Waiting for W&B process to finish... <strong style=\"color:green\">(success).</strong>"
     },
     "metadata": {},
     "output_type": "display_data"
    },
    {
     "data": {
      "text/plain": "VBox(children=(Label(value='0.001 MB of 0.001 MB uploaded (0.000 MB deduped)\\r'), FloatProgress(value=1.0, max…",
      "application/vnd.jupyter.widget-view+json": {
       "version_major": 2,
       "version_minor": 0,
       "model_id": "f15e3d772169428e8b511197c73eeafb"
      }
     },
     "metadata": {},
     "output_type": "display_data"
    },
    {
     "data": {
      "text/plain": "<IPython.core.display.HTML object>",
      "text/html": "Synced <strong style=\"color:#cdcd00\">flowing-salad-302</strong>: <a href=\"https://wandb.ai/austinbergstrom/sat6_v2/runs/31oe9q2s\" target=\"_blank\">https://wandb.ai/austinbergstrom/sat6_v2/runs/31oe9q2s</a><br/>Synced 5 W&B file(s), 0 media file(s), 0 artifact file(s) and 0 other file(s)"
     },
     "metadata": {},
     "output_type": "display_data"
    },
    {
     "data": {
      "text/plain": "<IPython.core.display.HTML object>",
      "text/html": "Find logs at: <code>./wandb/run-20220520_155135-31oe9q2s/logs</code>"
     },
     "metadata": {},
     "output_type": "display_data"
    },
    {
     "data": {
      "text/plain": "<IPython.core.display.HTML object>",
      "text/html": "wandb version 0.12.16 is available!  To upgrade, please run:\n $ pip install wandb --upgrade"
     },
     "metadata": {},
     "output_type": "display_data"
    },
    {
     "data": {
      "text/plain": "<IPython.core.display.HTML object>",
      "text/html": "Tracking run with wandb version 0.12.11"
     },
     "metadata": {},
     "output_type": "display_data"
    },
    {
     "data": {
      "text/plain": "<IPython.core.display.HTML object>",
      "text/html": "Run data is saved locally in <code>/home/acb6595/sat6/image-quality-for-deep-learning/src/d04_analysis/wandb/run-20220520_155145-22qaz8u1</code>"
     },
     "metadata": {},
     "output_type": "display_data"
    },
    {
     "data": {
      "text/plain": "<IPython.core.display.HTML object>",
      "text/html": "Syncing run <strong><a href=\"https://wandb.ai/austinbergstrom/sat6_v2/runs/22qaz8u1\" target=\"_blank\">golden-donkey-303</a></strong> to <a href=\"https://wandb.ai/austinbergstrom/sat6_v2\" target=\"_blank\">Weights & Biases</a> (<a href=\"https://wandb.me/run\" target=\"_blank\">docs</a>)<br/>"
     },
     "metadata": {},
     "output_type": "display_data"
    },
    {
     "name": "stdout",
     "output_type": "stream",
     "text": [
      "\n"
     ]
    },
    {
     "data": {
      "text/plain": "<IPython.core.display.HTML object>",
      "text/html": "Waiting for W&B process to finish... <strong style=\"color:green\">(success).</strong>"
     },
     "metadata": {},
     "output_type": "display_data"
    },
    {
     "data": {
      "text/plain": "VBox(children=(Label(value='0.001 MB of 0.001 MB uploaded (0.000 MB deduped)\\r'), FloatProgress(value=1.0, max…",
      "application/vnd.jupyter.widget-view+json": {
       "version_major": 2,
       "version_minor": 0,
       "model_id": "1edd00ca812a412ba0b305805728111e"
      }
     },
     "metadata": {},
     "output_type": "display_data"
    },
    {
     "data": {
      "text/plain": "<IPython.core.display.HTML object>",
      "text/html": "Synced <strong style=\"color:#cdcd00\">golden-donkey-303</strong>: <a href=\"https://wandb.ai/austinbergstrom/sat6_v2/runs/22qaz8u1\" target=\"_blank\">https://wandb.ai/austinbergstrom/sat6_v2/runs/22qaz8u1</a><br/>Synced 5 W&B file(s), 0 media file(s), 0 artifact file(s) and 0 other file(s)"
     },
     "metadata": {},
     "output_type": "display_data"
    },
    {
     "data": {
      "text/plain": "<IPython.core.display.HTML object>",
      "text/html": "Find logs at: <code>./wandb/run-20220520_155145-22qaz8u1/logs</code>"
     },
     "metadata": {},
     "output_type": "display_data"
    }
   ],
   "source": [
    "pre_trained_rn50_artifact_id = '0013-rlt-0003-resnet50_sat6-pretrain_lower_lr-0008-tst-r_fr_s6-b_fr_s6-n_fr_s6_noise'  # sat6\n",
    "pre_trained_rn50_identifier =  'RN50-pre-trained'\n",
    "rn50_pre_trained, __ = dp.get_model_distortion_performance_result(pre_trained_rn50_artifact_id , pre_trained_rn50_identifier)\n",
    "\n",
    "full_range_rn50_artifact_id = '0015-rlt-0005-resnet50_sat6-full_range_best_loss-0008-tst-r_fr_s6-b_fr_s6-n_fr_s6_noise'  # sat6\n",
    "full_range_rn50_identifier= 'RN50-full-range'\n",
    "rn50_full_range, __ = dp.get_model_distortion_performance_result(full_range_rn50_artifact_id, full_range_rn50_identifier)\n",
    "\n",
    "full_range_rn50_copy_artifact_id = '0015-rlt-0005-resnet50_sat6-full_range_best_loss-0008-tst-r_fr_s6-b_fr_s6-n_fr_s6_noise'  # sat6\n",
    "full_range_rn50_copy_identifier= 'RN50-full-range_copy'\n",
    "rn50_full_range_copy, __ = dp.get_model_distortion_performance_result(full_range_rn50_copy_artifact_id, full_range_rn50_copy_identifier)\n"
   ],
   "metadata": {
    "collapsed": false,
    "pycharm": {
     "name": "#%%\n"
    }
   }
  },
  {
   "cell_type": "markdown",
   "source": [],
   "metadata": {
    "collapsed": false,
    "pycharm": {
     "name": "#%% md\n"
    }
   }
  },
  {
   "cell_type": "markdown",
   "source": [],
   "metadata": {
    "collapsed": false,
    "pycharm": {
     "name": "#%% md\n"
    }
   }
  },
  {
   "cell_type": "code",
   "execution_count": 24,
   "outputs": [],
   "source": [
    "output_dir = Path(defs.ROOT_DIR, defs.REL_PATHS['analysis'], 'combined')\n",
    "if not output_dir.is_dir():\n",
    "    Path.mkdir(output_dir)\n",
    "    print('created ', str(output_dir))"
   ],
   "metadata": {
    "collapsed": false,
    "pycharm": {
     "name": "#%%\n"
    }
   }
  },
  {
   "cell_type": "code",
   "execution_count": 25,
   "outputs": [
    {
     "name": "stdout",
     "output_type": "stream",
     "text": [
      "result id 0015-rlt-0005-resnet50_sat6-full_range_best_loss-0008-tst-r_fr_s6-b_fr_s6-n_fr_s6_noise appears to be a duplicate of 0015-rlt-0005-resnet50_sat6-full_range_best_loss-0008-tst-r_fr_s6-b_fr_s6-n_fr_s6_noise\n"
     ]
    }
   ],
   "source": [
    "# place results into a single list for easier iteration\n",
    "# results = [pre_trained, midpoint, mid_band, full_range, endpoint]'\n",
    "importlib.reload(src.d04_analysis.analysis_functions)\n",
    "get_performance_correlations = src.d04_analysis.analysis_functions.get_performance_correlations\n",
    "correlations, correlations_alt_keys = get_performance_correlations([rn50_pre_trained, rn50_full_range, rn50_full_range_copy])"
   ],
   "metadata": {
    "collapsed": false,
    "pycharm": {
     "name": "#%%\n"
    }
   }
  },
  {
   "cell_type": "code",
   "execution_count": 20,
   "outputs": [
    {
     "name": "stdout",
     "output_type": "stream",
     "text": [
      "{('0013-rlt-0003-resnet50_sat6-pretrain_lower_lr-0008-tst-r_fr_s6-b_fr_s6-n_fr_s6_noise', '0013-rlt-0003-resnet50_sat6-pretrain_lower_lr-0008-tst-r_fr_s6-b_fr_s6-n_fr_s6_noise'): 0.9999999999999998, ('0013-rlt-0003-resnet50_sat6-pretrain_lower_lr-0008-tst-r_fr_s6-b_fr_s6-n_fr_s6_noise', '0015-rlt-0005-resnet50_sat6-full_range_best_loss-0008-tst-r_fr_s6-b_fr_s6-n_fr_s6_noise'): 0.5498382767371335, ('0015-rlt-0005-resnet50_sat6-full_range_best_loss-0008-tst-r_fr_s6-b_fr_s6-n_fr_s6_noise', '0015-rlt-0005-resnet50_sat6-full_range_best_loss-0008-tst-r_fr_s6-b_fr_s6-n_fr_s6_noise'): 0.9999999999999998}\n"
     ]
    }
   ],
   "source": [
    "print(correlations_alt_keys)"
   ],
   "metadata": {
    "collapsed": false,
    "pycharm": {
     "name": "#%%\n"
    }
   }
  },
  {
   "cell_type": "code",
   "execution_count": null,
   "outputs": [],
   "source": [
    "# create some helper functions to plot results together with minimal pain\n",
    "# def create_identifier(perf_results, dim_tag=None):\n",
    "#     \"\"\"\n",
    "#     Creates identifier from a list of model performance results. Intended for use in plotting different\n",
    "#     sets of results together (i.e. built to be called by plot_results_together())\n",
    "#     \"\"\"\n",
    "#     if dim_tag:\n",
    "#         identifier = dim_tag\n",
    "#     else:\n",
    "#         identifier = None\n",
    "#\n",
    "#     for perf_result in perf_results:\n",
    "#         if not identifier:\n",
    "#             identifier = str(perf_result)\n",
    "#         else:\n",
    "#             identifier = f'{identifier}_{str(perf_result)}'\n",
    "#\n",
    "#     return identifier\n",
    "\n",
    "# def plot_results_together(model_results, directory=None, make_subdir=False, dim_tag='2d', legend_loc='best'):\n",
    "#     \"\"\"\n",
    "#     Plots performance of multiple models together.\n",
    "#     \"\"\"\n",
    "#     if dim_tag == '2d':\n",
    "#         identifier = create_identifier(model_results)\n",
    "#     else:\n",
    "#         identifier = create_identifier(model_results, dim_tag=dim_tag)\n",
    "#\n",
    "#     if directory and make_subdir:\n",
    "#         sub_dir = Path(directory, identifier)\n",
    "#         if not sub_dir.is_dir():\n",
    "#             Path.mkdir(sub_dir)\n",
    "#\n",
    "#         directory = sub_dir\n",
    "#\n",
    "#     if dim_tag == '2d':\n",
    "#         dp.plot_perf_2d_multi_result(model_results, directory=directory, identifier=identifier)\n",
    "#     else:\n",
    "#         dp.plot_perf_1d_multi_result(model_results, directory=directory, identifier=identifier, legend_loc=legend_loc)\n"
   ],
   "metadata": {
    "collapsed": false,
    "pycharm": {
     "name": "#%%\n"
    }
   }
  },
  {
   "cell_type": "code",
   "execution_count": null,
   "outputs": [],
   "source": [
    "plt.rcParams[\"figure.figsize\"] = (20,10)"
   ],
   "metadata": {
    "collapsed": false,
    "pycharm": {
     "name": "#%%\n"
    }
   }
  },
  {
   "cell_type": "code",
   "execution_count": null,
   "outputs": [],
   "source": [
    "plot_results_together([rn50_pre_trained, rn50_full_range], directory=output_dir, make_subdir=True)"
   ],
   "metadata": {
    "collapsed": false,
    "pycharm": {
     "name": "#%%\n"
    }
   }
  },
  {
   "cell_type": "code",
   "execution_count": null,
   "outputs": [],
   "source": [
    "plot_results_together([default_lr, low_lr, low_lr_early_stop], directory=output_dir, make_subdir=True)\n",
    "plot_results_together([default_lr, low_lr_early_stop], directory=output_dir, make_subdir=True)"
   ],
   "metadata": {
    "collapsed": false,
    "pycharm": {
     "name": "#%%\n"
    }
   }
  },
  {
   "cell_type": "code",
   "execution_count": null,
   "outputs": [],
   "source": [
    "exp_dir = Path(output_dir, 'plot_experiment')\n",
    "Path.mkdir(exp_dir)\n",
    "dp.analyze_perf_2d(default_lr, directory=exp_dir)"
   ],
   "metadata": {
    "collapsed": false,
    "pycharm": {
     "name": "#%%\n"
    }
   }
  },
  {
   "cell_type": "code",
   "execution_count": null,
   "outputs": [],
   "source": [
    "plot_results_together([full_range, pre_trained, endpoint], directory=output_dir, make_subdir=True)"
   ],
   "metadata": {
    "collapsed": false,
    "pycharm": {
     "name": "#%%\n"
    }
   }
  },
  {
   "cell_type": "code",
   "execution_count": null,
   "outputs": [],
   "source": [
    "# plot pre-trained and endpoint results together\n",
    "plot_results_together([pre_trained, endpoint], directory=output_dir, make_subdir=True)"
   ],
   "metadata": {
    "collapsed": false,
    "pycharm": {
     "name": "#%%\n"
    }
   }
  },
  {
   "cell_type": "code",
   "execution_count": null,
   "outputs": [],
   "source": [
    "# plot midpoint and mid-band together\n",
    "plot_results_together([midpoint, mid_band], directory=output_dir, make_subdir=True)"
   ],
   "metadata": {
    "collapsed": false,
    "pycharm": {
     "name": "#%%\n"
    }
   }
  },
  {
   "cell_type": "code",
   "execution_count": null,
   "outputs": [],
   "source": [
    "# plot full range with everything else\n",
    "plot_results_together([full_range, pre_trained], directory=output_dir, make_subdir=True)\n",
    "plot_results_together([full_range, midpoint], directory=output_dir, make_subdir=True)\n",
    "plot_results_together([full_range, mid_band], directory=output_dir, make_subdir=True)\n",
    "plot_results_together([full_range, endpoint], directory=output_dir, make_subdir=True)"
   ],
   "metadata": {
    "collapsed": false,
    "pycharm": {
     "name": "#%%\n"
    }
   }
  },
  {
   "cell_type": "code",
   "execution_count": null,
   "outputs": [],
   "source": [
    "plot_results_together([full_range, mid_band, midpoint, endpoint, pre_trained], directory=output_dir, make_subdir=True)"
   ],
   "metadata": {
    "collapsed": false,
    "pycharm": {
     "name": "#%%\n"
    }
   }
  },
  {
   "cell_type": "code",
   "execution_count": null,
   "outputs": [],
   "source": [
    "plot_results_together([full_range, pre_trained], directory=output_dir, make_subdir=True, dim_tag='1d')"
   ],
   "metadata": {
    "collapsed": false,
    "pycharm": {
     "name": "#%%\n"
    }
   }
  },
  {
   "cell_type": "code",
   "execution_count": null,
   "outputs": [],
   "source": [
    "importlib.reload(dp)\n",
    "plot_results_together([full_range, mid_band, midpoint, endpoint, pre_trained], directory=output_dir, make_subdir=True, dim_tag='1d', legend_loc='best')"
   ],
   "metadata": {
    "collapsed": false,
    "pycharm": {
     "name": "#%%\n"
    }
   }
  },
  {
   "cell_type": "code",
   "execution_count": null,
   "outputs": [],
   "source": [
    "plot_results_together([full_range, mid_band, midpoint, endpoint], directory=output_dir, make_subdir=True, dim_tag='1d',\n",
    "                      legend_loc='lower left')"
   ],
   "metadata": {
    "collapsed": false,
    "pycharm": {
     "name": "#%%\n"
    }
   }
  },
  {
   "cell_type": "code",
   "execution_count": null,
   "outputs": [],
   "source": [
    "# plot full range with everything else\n",
    "plot_results_together([full_range, pre_trained], directory=output_dir, make_subdir=True)\n",
    "plot_results_together([full_range, midpoint], directory=output_dir, make_subdir=True)\n",
    "plot_results_together([full_range, mid_band], directory=output_dir, make_subdir=True)\n",
    "plot_results_together([full_range, endpoint], directory=output_dir, make_subdir=True)"
   ],
   "metadata": {
    "collapsed": false,
    "pycharm": {
     "name": "#%%\n"
    }
   }
  },
  {
   "cell_type": "code",
   "execution_count": null,
   "outputs": [],
   "source": [
    "plot_results_together([full_range, mid_band, midpoint, endpoint, pre_trained], directory=output_dir, make_subdir=True)"
   ],
   "metadata": {
    "collapsed": false,
    "pycharm": {
     "name": "#%%\n"
    }
   }
  },
  {
   "cell_type": "code",
   "execution_count": null,
   "outputs": [],
   "source": [
    "plot_results_together([full_range, pre_trained], directory=output_dir, make_subdir=True, dim_tag='1d')"
   ],
   "metadata": {
    "collapsed": false,
    "pycharm": {
     "name": "#%%\n"
    }
   }
  },
  {
   "cell_type": "code",
   "execution_count": null,
   "outputs": [],
   "source": [
    "importlib.reload(dp)\n",
    "plot_results_together([full_range, mid_band, midpoint, endpoint, pre_trained], directory=output_dir, make_subdir=True, dim_tag='1d', legend_loc='best')"
   ],
   "metadata": {
    "collapsed": false,
    "pycharm": {
     "name": "#%%\n"
    }
   }
  },
  {
   "cell_type": "code",
   "execution_count": 10,
   "outputs": [
    {
     "ename": "NameError",
     "evalue": "name 'full_range' is not defined",
     "output_type": "error",
     "traceback": [
      "\u001B[0;31m---------------------------------------------------------------------------\u001B[0m",
      "\u001B[0;31mNameError\u001B[0m                                 Traceback (most recent call last)",
      "\u001B[0;32m<ipython-input-10-6d9c25a860bb>\u001B[0m in \u001B[0;36m<module>\u001B[0;34m\u001B[0m\n\u001B[0;32m----> 1\u001B[0;31m plot_results_together([full_range, mid_band, midpoint, endpoint], directory=output_dir, make_subdir=True, dim_tag='1d',\n\u001B[0m\u001B[1;32m      2\u001B[0m                       legend_loc='lower left')\n",
      "\u001B[0;31mNameError\u001B[0m: name 'full_range' is not defined"
     ]
    }
   ],
   "source": [
    "plot_results_together([full_range, mid_band, midpoint, endpoint], directory=output_dir, make_subdir=True, dim_tag='1d',\n",
    "                      legend_loc='lower left')"
   ],
   "metadata": {
    "collapsed": false,
    "pycharm": {
     "name": "#%%\n"
    }
   }
  },
  {
   "cell_type": "code",
   "execution_count": null,
   "outputs": [],
   "source": [
    "# plot full range with everything else\n",
    "plot_results_together([full_range, pre_trained], directory=output_dir, make_subdir=True)\n",
    "plot_results_together([full_range, midpoint], directory=output_dir, make_subdir=True)\n",
    "plot_results_together([full_range, mid_band], directory=output_dir, make_subdir=True)\n",
    "plot_results_together([full_range, endpoint], directory=output_dir, make_subdir=True)"
   ],
   "metadata": {
    "collapsed": false,
    "pycharm": {
     "name": "#%%\n"
    }
   }
  },
  {
   "cell_type": "code",
   "execution_count": null,
   "outputs": [],
   "source": [
    "plot_results_together([full_range, mid_band, midpoint, endpoint, pre_trained], directory=output_dir, make_subdir=True)"
   ],
   "metadata": {
    "collapsed": false,
    "pycharm": {
     "name": "#%%\n"
    }
   }
  },
  {
   "cell_type": "code",
   "execution_count": null,
   "outputs": [],
   "source": [
    "plot_results_together([full_range, pre_trained], directory=output_dir, make_subdir=True, dim_tag='1d')"
   ],
   "metadata": {
    "collapsed": false,
    "pycharm": {
     "name": "#%%\n"
    }
   }
  },
  {
   "cell_type": "code",
   "execution_count": null,
   "outputs": [],
   "source": [
    "importlib.reload(dp)\n",
    "plot_results_together([full_range, mid_band, midpoint, endpoint, pre_trained], directory=output_dir, make_subdir=True, dim_tag='1d', legend_loc='best')"
   ],
   "metadata": {
    "collapsed": false,
    "pycharm": {
     "name": "#%%\n"
    }
   }
  },
  {
   "cell_type": "code",
   "execution_count": null,
   "outputs": [],
   "source": [
    "plot_results_together([full_range, mid_band, midpoint, endpoint], directory=output_dir, make_subdir=True, dim_tag='1d',\n",
    "                      legend_loc='lower left')"
   ],
   "metadata": {
    "collapsed": false,
    "pycharm": {
     "name": "#%%\n"
    }
   }
  },
  {
   "cell_type": "code",
   "execution_count": null,
   "outputs": [],
   "source": [
    "# plot full range with everything else\n",
    "plot_results_together([full_range, pre_trained], directory=output_dir, make_subdir=True)\n",
    "plot_results_together([full_range, midpoint], directory=output_dir, make_subdir=True)\n",
    "plot_results_together([full_range, mid_band], directory=output_dir, make_subdir=True)\n",
    "plot_results_together([full_range, endpoint], directory=output_dir, make_subdir=True)"
   ],
   "metadata": {
    "collapsed": false,
    "pycharm": {
     "name": "#%%\n"
    }
   }
  },
  {
   "cell_type": "code",
   "execution_count": null,
   "outputs": [],
   "source": [
    "plot_results_together([full_range, mid_band, midpoint, endpoint, pre_trained], directory=output_dir, make_subdir=True)"
   ],
   "metadata": {
    "collapsed": false,
    "pycharm": {
     "name": "#%%\n"
    }
   }
  },
  {
   "cell_type": "code",
   "execution_count": null,
   "outputs": [],
   "source": [
    "plot_results_together([full_range, pre_trained], directory=output_dir, make_subdir=True, dim_tag='1d')"
   ],
   "metadata": {
    "collapsed": false,
    "pycharm": {
     "name": "#%%\n"
    }
   }
  },
  {
   "cell_type": "code",
   "execution_count": null,
   "outputs": [],
   "source": [
    "importlib.reload(dp)\n",
    "plot_results_together([full_range, mid_band, midpoint, endpoint, pre_trained], directory=output_dir, make_subdir=True, dim_tag='1d', legend_loc='best')"
   ],
   "metadata": {
    "collapsed": false,
    "pycharm": {
     "name": "#%%\n"
    }
   }
  },
  {
   "cell_type": "code",
   "execution_count": null,
   "outputs": [],
   "source": [
    "plot_results_together([full_range, mid_band, midpoint, endpoint], directory=output_dir, make_subdir=True, dim_tag='1d',\n",
    "                      legend_loc='lower left')"
   ],
   "metadata": {
    "collapsed": false,
    "pycharm": {
     "name": "#%%\n"
    }
   }
  },
  {
   "cell_type": "code",
   "execution_count": null,
   "outputs": [],
   "source": [
    "# plot full range with everything else\n",
    "plot_results_together([full_range, pre_trained], directory=output_dir, make_subdir=True)\n",
    "plot_results_together([full_range, midpoint], directory=output_dir, make_subdir=True)\n",
    "plot_results_together([full_range, mid_band], directory=output_dir, make_subdir=True)\n",
    "plot_results_together([full_range, endpoint], directory=output_dir, make_subdir=True)"
   ],
   "metadata": {
    "collapsed": false,
    "pycharm": {
     "name": "#%%\n"
    }
   }
  },
  {
   "cell_type": "code",
   "execution_count": null,
   "outputs": [],
   "source": [
    "plot_results_together([full_range, mid_band, midpoint, endpoint, pre_trained], directory=output_dir, make_subdir=True)"
   ],
   "metadata": {
    "collapsed": false,
    "pycharm": {
     "name": "#%%\n"
    }
   }
  },
  {
   "cell_type": "code",
   "execution_count": null,
   "outputs": [],
   "source": [
    "plot_results_together([full_range, pre_trained], directory=output_dir, make_subdir=True, dim_tag='1d')"
   ],
   "metadata": {
    "collapsed": false,
    "pycharm": {
     "name": "#%%\n"
    }
   }
  },
  {
   "cell_type": "code",
   "execution_count": null,
   "outputs": [],
   "source": [
    "importlib.reload(dp)\n",
    "plot_results_together([full_range, mid_band, midpoint, endpoint, pre_trained], directory=output_dir, make_subdir=True, dim_tag='1d', legend_loc='best')"
   ],
   "metadata": {
    "collapsed": false,
    "pycharm": {
     "name": "#%%\n"
    }
   }
  },
  {
   "cell_type": "code",
   "execution_count": null,
   "outputs": [],
   "source": [
    "plot_results_together([full_range, mid_band, midpoint, endpoint], directory=output_dir, make_subdir=True, dim_tag='1d',\n",
    "                      legend_loc='lower left')"
   ],
   "metadata": {
    "collapsed": false,
    "pycharm": {
     "name": "#%%\n"
    }
   }
  },
  {
   "cell_type": "code",
   "execution_count": null,
   "outputs": [],
   "source": [
    "# plot full range with everything else\n",
    "plot_results_together([full_range, pre_trained], directory=output_dir, make_subdir=True)\n",
    "plot_results_together([full_range, midpoint], directory=output_dir, make_subdir=True)\n",
    "plot_results_together([full_range, mid_band], directory=output_dir, make_subdir=True)\n",
    "plot_results_together([full_range, endpoint], directory=output_dir, make_subdir=True)"
   ],
   "metadata": {
    "collapsed": false,
    "pycharm": {
     "name": "#%%\n"
    }
   }
  },
  {
   "cell_type": "code",
   "execution_count": null,
   "outputs": [],
   "source": [
    "plot_results_together([full_range, mid_band, midpoint, endpoint, pre_trained], directory=output_dir, make_subdir=True)"
   ],
   "metadata": {
    "collapsed": false,
    "pycharm": {
     "name": "#%%\n"
    }
   }
  },
  {
   "cell_type": "code",
   "execution_count": null,
   "outputs": [],
   "source": [
    "plot_results_together([full_range, pre_trained], directory=output_dir, make_subdir=True, dim_tag='1d')"
   ],
   "metadata": {
    "collapsed": false,
    "pycharm": {
     "name": "#%%\n"
    }
   }
  },
  {
   "cell_type": "code",
   "execution_count": null,
   "outputs": [],
   "source": [
    "importlib.reload(dp)\n",
    "plot_results_together([full_range, mid_band, midpoint, endpoint, pre_trained], directory=output_dir, make_subdir=True, dim_tag='1d', legend_loc='best')"
   ],
   "metadata": {
    "collapsed": false,
    "pycharm": {
     "name": "#%%\n"
    }
   }
  },
  {
   "cell_type": "code",
   "execution_count": null,
   "outputs": [],
   "source": [
    "plot_results_together([full_range, mid_band, midpoint, endpoint], directory=output_dir, make_subdir=True, dim_tag='1d',\n",
    "                      legend_loc='lower left')"
   ],
   "metadata": {
    "collapsed": false,
    "pycharm": {
     "name": "#%%\n"
    }
   }
  },
  {
   "cell_type": "code",
   "execution_count": null,
   "outputs": [],
   "source": [
    "# plot full range with everything else\n",
    "plot_results_together([full_range, pre_trained], directory=output_dir, make_subdir=True)\n",
    "plot_results_together([full_range, midpoint], directory=output_dir, make_subdir=True)\n",
    "plot_results_together([full_range, mid_band], directory=output_dir, make_subdir=True)\n",
    "plot_results_together([full_range, endpoint], directory=output_dir, make_subdir=True)"
   ],
   "metadata": {
    "collapsed": false,
    "pycharm": {
     "name": "#%%\n"
    }
   }
  },
  {
   "cell_type": "code",
   "execution_count": null,
   "outputs": [],
   "source": [
    "plot_results_together([full_range, mid_band, midpoint, endpoint, pre_trained], directory=output_dir, make_subdir=True)"
   ],
   "metadata": {
    "collapsed": false,
    "pycharm": {
     "name": "#%%\n"
    }
   }
  },
  {
   "cell_type": "code",
   "execution_count": null,
   "outputs": [],
   "source": [
    "plot_results_together([full_range, pre_trained], directory=output_dir, make_subdir=True, dim_tag='1d')"
   ],
   "metadata": {
    "collapsed": false,
    "pycharm": {
     "name": "#%%\n"
    }
   }
  },
  {
   "cell_type": "code",
   "execution_count": null,
   "outputs": [],
   "source": [
    "importlib.reload(dp)\n",
    "plot_results_together([full_range, mid_band, midpoint, endpoint, pre_trained], directory=output_dir, make_subdir=True, dim_tag='1d', legend_loc='best')"
   ],
   "metadata": {
    "collapsed": false,
    "pycharm": {
     "name": "#%%\n"
    }
   }
  },
  {
   "cell_type": "code",
   "execution_count": null,
   "outputs": [],
   "source": [
    "plot_results_together([full_range, mid_band, midpoint, endpoint], directory=output_dir, make_subdir=True, dim_tag='1d',\n",
    "                      legend_loc='lower left')"
   ],
   "metadata": {
    "collapsed": false,
    "pycharm": {
     "name": "#%%\n"
    }
   }
  },
  {
   "cell_type": "code",
   "execution_count": null,
   "outputs": [],
   "source": [
    "# plot full range with everything else\n",
    "plot_results_together([full_range, pre_trained], directory=output_dir, make_subdir=True)\n",
    "plot_results_together([full_range, midpoint], directory=output_dir, make_subdir=True)\n",
    "plot_results_together([full_range, mid_band], directory=output_dir, make_subdir=True)\n",
    "plot_results_together([full_range, endpoint], directory=output_dir, make_subdir=True)"
   ],
   "metadata": {
    "collapsed": false,
    "pycharm": {
     "name": "#%%\n"
    }
   }
  },
  {
   "cell_type": "code",
   "execution_count": null,
   "outputs": [],
   "source": [
    "plot_results_together([full_range, mid_band, midpoint, endpoint, pre_trained], directory=output_dir, make_subdir=True)"
   ],
   "metadata": {
    "collapsed": false,
    "pycharm": {
     "name": "#%%\n"
    }
   }
  },
  {
   "cell_type": "code",
   "execution_count": null,
   "outputs": [],
   "source": [
    "plot_results_together([full_range, pre_trained], directory=output_dir, make_subdir=True, dim_tag='1d')"
   ],
   "metadata": {
    "collapsed": false,
    "pycharm": {
     "name": "#%%\n"
    }
   }
  },
  {
   "cell_type": "code",
   "execution_count": null,
   "outputs": [],
   "source": [
    "importlib.reload(dp)\n",
    "plot_results_together([full_range, mid_band, midpoint, endpoint, pre_trained], directory=output_dir, make_subdir=True, dim_tag='1d', legend_loc='best')"
   ],
   "metadata": {
    "collapsed": false,
    "pycharm": {
     "name": "#%%\n"
    }
   }
  },
  {
   "cell_type": "code",
   "execution_count": null,
   "outputs": [],
   "source": [
    "plot_results_together([full_range, mid_band, midpoint, endpoint], directory=output_dir, make_subdir=True, dim_tag='1d',\n",
    "                      legend_loc='lower left')"
   ],
   "metadata": {
    "collapsed": false,
    "pycharm": {
     "name": "#%%\n"
    }
   }
  },
  {
   "cell_type": "code",
   "execution_count": null,
   "outputs": [],
   "source": [
    "# plot full range with everything else\n",
    "plot_results_together([full_range, pre_trained], directory=output_dir, make_subdir=True)\n",
    "plot_results_together([full_range, midpoint], directory=output_dir, make_subdir=True)\n",
    "plot_results_together([full_range, mid_band], directory=output_dir, make_subdir=True)\n",
    "plot_results_together([full_range, endpoint], directory=output_dir, make_subdir=True)"
   ],
   "metadata": {
    "collapsed": false,
    "pycharm": {
     "name": "#%%\n"
    }
   }
  },
  {
   "cell_type": "code",
   "execution_count": null,
   "outputs": [],
   "source": [
    "plot_results_together([full_range, mid_band, midpoint, endpoint, pre_trained], directory=output_dir, make_subdir=True)"
   ],
   "metadata": {
    "collapsed": false,
    "pycharm": {
     "name": "#%%\n"
    }
   }
  },
  {
   "cell_type": "code",
   "execution_count": null,
   "outputs": [],
   "source": [
    "plot_results_together([full_range, pre_trained], directory=output_dir, make_subdir=True, dim_tag='1d')"
   ],
   "metadata": {
    "collapsed": false,
    "pycharm": {
     "name": "#%%\n"
    }
   }
  },
  {
   "cell_type": "code",
   "execution_count": null,
   "outputs": [],
   "source": [
    "importlib.reload(dp)\n",
    "plot_results_together([full_range, mid_band, midpoint, endpoint, pre_trained], directory=output_dir, make_subdir=True, dim_tag='1d', legend_loc='best')"
   ],
   "metadata": {
    "collapsed": false,
    "pycharm": {
     "name": "#%%\n"
    }
   }
  },
  {
   "cell_type": "code",
   "execution_count": null,
   "outputs": [],
   "source": [
    "plot_results_together([full_range, mid_band, midpoint, endpoint], directory=output_dir, make_subdir=True, dim_tag='1d',\n",
    "                      legend_loc='lower left')"
   ],
   "metadata": {
    "collapsed": false,
    "pycharm": {
     "name": "#%%\n"
    }
   }
  },
  {
   "cell_type": "code",
   "execution_count": null,
   "outputs": [],
   "source": [
    "# plot full range with everything else\n",
    "plot_results_together([full_range, pre_trained], directory=output_dir, make_subdir=True)\n",
    "plot_results_together([full_range, midpoint], directory=output_dir, make_subdir=True)\n",
    "plot_results_together([full_range, mid_band], directory=output_dir, make_subdir=True)\n",
    "plot_results_together([full_range, endpoint], directory=output_dir, make_subdir=True)"
   ],
   "metadata": {
    "collapsed": false,
    "pycharm": {
     "name": "#%%\n"
    }
   }
  },
  {
   "cell_type": "code",
   "execution_count": null,
   "outputs": [],
   "source": [
    "plot_results_together([full_range, mid_band, midpoint, endpoint, pre_trained], directory=output_dir, make_subdir=True)"
   ],
   "metadata": {
    "collapsed": false,
    "pycharm": {
     "name": "#%%\n"
    }
   }
  },
  {
   "cell_type": "code",
   "execution_count": null,
   "outputs": [],
   "source": [
    "plot_results_together([full_range, pre_trained], directory=output_dir, make_subdir=True, dim_tag='1d')"
   ],
   "metadata": {
    "collapsed": false,
    "pycharm": {
     "name": "#%%\n"
    }
   }
  },
  {
   "cell_type": "code",
   "execution_count": null,
   "outputs": [],
   "source": [
    "importlib.reload(dp)\n",
    "plot_results_together([full_range, mid_band, midpoint, endpoint, pre_trained], directory=output_dir, make_subdir=True, dim_tag='1d', legend_loc='best')"
   ],
   "metadata": {
    "collapsed": false,
    "pycharm": {
     "name": "#%%\n"
    }
   }
  },
  {
   "cell_type": "code",
   "execution_count": null,
   "outputs": [],
   "source": [
    "plot_results_together([full_range, mid_band, midpoint, endpoint], directory=output_dir, make_subdir=True, dim_tag='1d',\n",
    "                      legend_loc='lower left')"
   ],
   "metadata": {
    "collapsed": false,
    "pycharm": {
     "name": "#%%\n"
    }
   }
  }
 ],
 "metadata": {
  "kernelspec": {
   "display_name": "Python 3",
   "language": "python",
   "name": "python3"
  },
  "language_info": {
   "codemirror_mode": {
    "name": "ipython",
    "version": 2
   },
   "file_extension": ".py",
   "mimetype": "text/x-python",
   "name": "python",
   "nbconvert_exporter": "python",
   "pygments_lexer": "ipython2",
   "version": "2.7.6"
  }
 },
 "nbformat": 4,
 "nbformat_minor": 0
}