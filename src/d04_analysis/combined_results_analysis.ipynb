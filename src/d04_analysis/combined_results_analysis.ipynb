{
 "cells": [
  {
   "cell_type": "markdown",
   "source": [],
   "metadata": {
    "collapsed": false
   }
  },
  {
   "cell_type": "code",
   "execution_count": 1,
   "outputs": [
    {
     "name": "stderr",
     "output_type": "stream",
     "text": [
      "\u001B[34m\u001B[1mwandb\u001B[0m: Currently logged in as: \u001B[33maustinbergstrom\u001B[0m (use `wandb login --relogin` to force relogin)\n"
     ]
    }
   ],
   "source": [
    "from src.d00_utils import definitions as defs\n",
    "from src.d04_analysis import distortion_performance as dp\n",
    "from src.d04_analysis import tools3d\n",
    "import numpy as np\n",
    "import matplotlib.pyplot as plt\n",
    "import importlib"
   ],
   "metadata": {
    "collapsed": false,
    "pycharm": {
     "name": "#%%\n"
    }
   }
  },
  {
   "cell_type": "code",
   "execution_count": 2,
   "outputs": [],
   "source": [
    "from pathlib import Path\n",
    "import importlib"
   ],
   "metadata": {
    "collapsed": false,
    "pycharm": {
     "name": "#%%\n"
    }
   }
  },
  {
   "cell_type": "code",
   "execution_count": null,
   "outputs": [],
   "source": [
    "# initialize ModelDistortionPerformanceResult instances for each of the model results to be considered\n",
    "\n",
    "endpoint_artifact_id = \"0018_rlt_0030_mdl_rst4_b5_nf5_best_loss_0040_tst_rs1_bcs3_nfs3_noise\"\n",
    "endpoint_identifier = 'endpoint'\n",
    "endpoint, __ = dp.get_model_distortion_performance_result(endpoint_artifact_id, endpoint_identifier)\n",
    "\n",
    "full_range_artifact_id = \"0017_rlt_0027_mdl_rst1_b10_nf11_best_loss_0040_tst_rs1_bcs3_nfs3_noise\"\n",
    "full_range_identifier = 'full-range'\n",
    "full_range, __ = dp.get_model_distortion_performance_result(full_range_artifact_id, full_range_identifier)\n",
    "\n",
    "mid_band_artifact_id = \"0016_rlt_0028_mdl_rst2_b11_nf10_best_loss_0040_tst_rs1_bcs3_nfs3_noise\"\n",
    "mid_band_identifier = 'mid-band'\n",
    "mid_band, __ = dp.get_model_distortion_performance_result(mid_band_artifact_id, mid_band_identifier)\n",
    "\n",
    "midpoint_artifact_id = \"0015_rlt_0029_mdl_rst3_b4_nf4_best_loss_0040_tst_rs1_bcs3_nfs3_noise\"\n",
    "midpoint_identifier = 'midpoint'\n",
    "midpoint, __ = dp.get_model_distortion_performance_result(midpoint_artifact_id, midpoint_identifier)\n",
    "\n",
    "pre_trained_artifact_id = \"0014_rlt_0001_0040_tst_rs1_bcs3_nfs3_noise\"\n",
    "pre_trained_identifier = 'pre-trained'\n",
    "pre_trained, __ = dp.get_model_distortion_performance_result(pre_trained_artifact_id, pre_trained_identifier)"
   ],
   "metadata": {
    "collapsed": false,
    "pycharm": {
     "name": "#%%\n"
    }
   }
  },
  {
   "cell_type": "code",
   "execution_count": null,
   "outputs": [],
   "source": [
    "output_dir = Path(defs.ROOT_DIR, defs.REL_PATHS['analysis'], 'combined')\n",
    "if not output_dir.is_dir():\n",
    "    Path.mkdir(output_dir)\n",
    "    print('created ', str(output_dir))"
   ],
   "metadata": {
    "collapsed": false,
    "pycharm": {
     "name": "#%%\n"
    }
   }
  },
  {
   "cell_type": "code",
   "execution_count": null,
   "outputs": [],
   "source": [
    "# place results into a single list for easier iteration\n",
    "# results = [pre_trained, midpoint, mid_band, full_range, endpoint]'\n",
    "importlib.reload(dp)"
   ],
   "metadata": {
    "collapsed": false,
    "pycharm": {
     "name": "#%%\n"
    }
   }
  },
  {
   "cell_type": "code",
   "execution_count": null,
   "outputs": [],
   "source": [
    "# create some helper functions to plot results together with minimal pain\n",
    "def create_identifier(perf_results, dim_tag=None):\n",
    "\n",
    "    if dim_tag:\n",
    "        identifier = dim_tag\n",
    "    else:\n",
    "        identifier = None\n",
    "\n",
    "    for perf_result in perf_results:\n",
    "        if not identifier:\n",
    "            identifier = str(perf_result)\n",
    "        else:\n",
    "            identifier = f'{identifier}_{str(perf_result)}'\n",
    "\n",
    "    # if dim_tag:\n",
    "    #     identifier = f'{identifier}_{dim_tag}'\n",
    "\n",
    "    return identifier\n",
    "\n",
    "def plot_results_together(model_results, directory=None, make_subdir=False, dim_tag='2d', legend_loc='best'):\n",
    "\n",
    "    if dim_tag == '2d':\n",
    "        identifier = create_identifier(model_results)\n",
    "    else:\n",
    "        identifier = create_identifier(model_results, dim_tag=dim_tag)\n",
    "\n",
    "    if directory and make_subdir:\n",
    "        sub_dir = Path(directory, identifier)\n",
    "        if not sub_dir.is_dir():\n",
    "            Path.mkdir(sub_dir)\n",
    "\n",
    "        directory = sub_dir\n",
    "\n",
    "    if dim_tag == '2d':\n",
    "        dp.plot_perf_2d_multi_result(model_results, directory=directory, identifier=identifier)\n",
    "    else:\n",
    "        dp.plot_perf_1d_multi_result(model_results, directory=directory, identifier=identifier, legend_loc=legend_loc)\n"
   ],
   "metadata": {
    "collapsed": false,
    "pycharm": {
     "name": "#%%\n"
    }
   }
  },
  {
   "cell_type": "code",
   "execution_count": null,
   "outputs": [],
   "source": [
    "plot_results_together([full_range, pre_trained, endpoint], directory=output_dir, make_subdir=True)"
   ],
   "metadata": {
    "collapsed": false,
    "pycharm": {
     "name": "#%%\n"
    }
   }
  },
  {
   "cell_type": "code",
   "execution_count": null,
   "outputs": [],
   "source": [
    "# plot pre-trained and endpoint results together\n",
    "plot_results_together([pre_trained, endpoint], directory=output_dir, make_subdir=True)"
   ],
   "metadata": {
    "collapsed": false,
    "pycharm": {
     "name": "#%%\n"
    }
   }
  },
  {
   "cell_type": "code",
   "execution_count": null,
   "outputs": [],
   "source": [
    "# plot midpoint and mid-band together\n",
    "plot_results_together([midpoint, mid_band], directory=output_dir, make_subdir=True)"
   ],
   "metadata": {
    "collapsed": false,
    "pycharm": {
     "name": "#%%\n"
    }
   }
  },
  {
   "cell_type": "code",
   "execution_count": null,
   "outputs": [],
   "source": [
    "# plot full range with everything else\n",
    "plot_results_together([full_range, pre_trained], directory=output_dir, make_subdir=True)\n",
    "plot_results_together([full_range, midpoint], directory=output_dir, make_subdir=True)\n",
    "plot_results_together([full_range, mid_band], directory=output_dir, make_subdir=True)\n",
    "plot_results_together([full_range, endpoint], directory=output_dir, make_subdir=True)"
   ],
   "metadata": {
    "collapsed": false,
    "pycharm": {
     "name": "#%%\n"
    }
   }
  },
  {
   "cell_type": "code",
   "execution_count": null,
   "outputs": [],
   "source": [
    "plot_results_together([full_range, mid_band, midpoint, endpoint, pre_trained], directory=output_dir, make_subdir=True)"
   ],
   "metadata": {
    "collapsed": false,
    "pycharm": {
     "name": "#%%\n"
    }
   }
  },
  {
   "cell_type": "code",
   "execution_count": null,
   "outputs": [],
   "source": [
    "plot_results_together([full_range, pre_trained], directory=output_dir, make_subdir=True, dim_tag='1d')"
   ],
   "metadata": {
    "collapsed": false,
    "pycharm": {
     "name": "#%%\n"
    }
   }
  },
  {
   "cell_type": "code",
   "execution_count": null,
   "outputs": [],
   "source": [
    "importlib.reload(dp)\n",
    "plot_results_together([full_range, mid_band, midpoint, endpoint, pre_trained], directory=output_dir, make_subdir=True, dim_tag='1d', legend_loc='best')"
   ],
   "metadata": {
    "collapsed": false,
    "pycharm": {
     "name": "#%%\n"
    }
   }
  },
  {
   "cell_type": "code",
   "execution_count": null,
   "outputs": [],
   "source": [
    "plot_results_together([full_range, mid_band, midpoint, endpoint], directory=output_dir, make_subdir=True, dim_tag='1d',\n",
    "                      legend_loc='lower left')"
   ],
   "metadata": {
    "collapsed": false,
    "pycharm": {
     "name": "#%%\n"
    }
   }
  },
  {
   "cell_type": "code",
   "execution_count": null,
   "outputs": [],
   "source": [
    "# plot full range with everything else\n",
    "plot_results_together([full_range, pre_trained], directory=output_dir, make_subdir=True)\n",
    "plot_results_together([full_range, midpoint], directory=output_dir, make_subdir=True)\n",
    "plot_results_together([full_range, mid_band], directory=output_dir, make_subdir=True)\n",
    "plot_results_together([full_range, endpoint], directory=output_dir, make_subdir=True)"
   ],
   "metadata": {
    "collapsed": false,
    "pycharm": {
     "name": "#%%\n"
    }
   }
  },
  {
   "cell_type": "code",
   "execution_count": null,
   "outputs": [],
   "source": [
    "plot_results_together([full_range, mid_band, midpoint, endpoint, pre_trained], directory=output_dir, make_subdir=True)"
   ],
   "metadata": {
    "collapsed": false,
    "pycharm": {
     "name": "#%%\n"
    }
   }
  },
  {
   "cell_type": "code",
   "execution_count": null,
   "outputs": [],
   "source": [
    "plot_results_together([full_range, pre_trained], directory=output_dir, make_subdir=True, dim_tag='1d')"
   ],
   "metadata": {
    "collapsed": false,
    "pycharm": {
     "name": "#%%\n"
    }
   }
  },
  {
   "cell_type": "code",
   "execution_count": null,
   "outputs": [],
   "source": [
    "importlib.reload(dp)\n",
    "plot_results_together([full_range, mid_band, midpoint, endpoint, pre_trained], directory=output_dir, make_subdir=True, dim_tag='1d', legend_loc='best')"
   ],
   "metadata": {
    "collapsed": false,
    "pycharm": {
     "name": "#%%\n"
    }
   }
  },
  {
   "cell_type": "code",
   "execution_count": null,
   "outputs": [],
   "source": [
    "plot_results_together([full_range, mid_band, midpoint, endpoint], directory=output_dir, make_subdir=True, dim_tag='1d',\n",
    "                      legend_loc='lower left')"
   ],
   "metadata": {
    "collapsed": false,
    "pycharm": {
     "name": "#%%\n"
    }
   }
  },
  {
   "cell_type": "code",
   "execution_count": null,
   "outputs": [],
   "source": [
    "# plot full range with everything else\n",
    "plot_results_together([full_range, pre_trained], directory=output_dir, make_subdir=True)\n",
    "plot_results_together([full_range, midpoint], directory=output_dir, make_subdir=True)\n",
    "plot_results_together([full_range, mid_band], directory=output_dir, make_subdir=True)\n",
    "plot_results_together([full_range, endpoint], directory=output_dir, make_subdir=True)"
   ],
   "metadata": {
    "collapsed": false,
    "pycharm": {
     "name": "#%%\n"
    }
   }
  },
  {
   "cell_type": "code",
   "execution_count": null,
   "outputs": [],
   "source": [
    "plot_results_together([full_range, mid_band, midpoint, endpoint, pre_trained], directory=output_dir, make_subdir=True)"
   ],
   "metadata": {
    "collapsed": false,
    "pycharm": {
     "name": "#%%\n"
    }
   }
  },
  {
   "cell_type": "code",
   "execution_count": null,
   "outputs": [],
   "source": [
    "plot_results_together([full_range, pre_trained], directory=output_dir, make_subdir=True, dim_tag='1d')"
   ],
   "metadata": {
    "collapsed": false,
    "pycharm": {
     "name": "#%%\n"
    }
   }
  },
  {
   "cell_type": "code",
   "execution_count": null,
   "outputs": [],
   "source": [
    "importlib.reload(dp)\n",
    "plot_results_together([full_range, mid_band, midpoint, endpoint, pre_trained], directory=output_dir, make_subdir=True, dim_tag='1d', legend_loc='best')"
   ],
   "metadata": {
    "collapsed": false,
    "pycharm": {
     "name": "#%%\n"
    }
   }
  },
  {
   "cell_type": "code",
   "execution_count": null,
   "outputs": [],
   "source": [
    "plot_results_together([full_range, mid_band, midpoint, endpoint], directory=output_dir, make_subdir=True, dim_tag='1d',\n",
    "                      legend_loc='lower left')"
   ],
   "metadata": {
    "collapsed": false,
    "pycharm": {
     "name": "#%%\n"
    }
   }
  },
  {
   "cell_type": "code",
   "execution_count": null,
   "outputs": [],
   "source": [
    "# plot full range with everything else\n",
    "plot_results_together([full_range, pre_trained], directory=output_dir, make_subdir=True)\n",
    "plot_results_together([full_range, midpoint], directory=output_dir, make_subdir=True)\n",
    "plot_results_together([full_range, mid_band], directory=output_dir, make_subdir=True)\n",
    "plot_results_together([full_range, endpoint], directory=output_dir, make_subdir=True)"
   ],
   "metadata": {
    "collapsed": false,
    "pycharm": {
     "name": "#%%\n"
    }
   }
  },
  {
   "cell_type": "code",
   "execution_count": null,
   "outputs": [],
   "source": [
    "plot_results_together([full_range, mid_band, midpoint, endpoint, pre_trained], directory=output_dir, make_subdir=True)"
   ],
   "metadata": {
    "collapsed": false,
    "pycharm": {
     "name": "#%%\n"
    }
   }
  },
  {
   "cell_type": "code",
   "execution_count": null,
   "outputs": [],
   "source": [
    "plot_results_together([full_range, pre_trained], directory=output_dir, make_subdir=True, dim_tag='1d')"
   ],
   "metadata": {
    "collapsed": false,
    "pycharm": {
     "name": "#%%\n"
    }
   }
  },
  {
   "cell_type": "code",
   "execution_count": null,
   "outputs": [],
   "source": [
    "importlib.reload(dp)\n",
    "plot_results_together([full_range, mid_band, midpoint, endpoint, pre_trained], directory=output_dir, make_subdir=True, dim_tag='1d', legend_loc='best')"
   ],
   "metadata": {
    "collapsed": false,
    "pycharm": {
     "name": "#%%\n"
    }
   }
  },
  {
   "cell_type": "code",
   "execution_count": null,
   "outputs": [],
   "source": [
    "plot_results_together([full_range, mid_band, midpoint, endpoint], directory=output_dir, make_subdir=True, dim_tag='1d',\n",
    "                      legend_loc='lower left')"
   ],
   "metadata": {
    "collapsed": false,
    "pycharm": {
     "name": "#%%\n"
    }
   }
  },
  {
   "cell_type": "code",
   "execution_count": null,
   "outputs": [],
   "source": [
    "# plot full range with everything else\n",
    "plot_results_together([full_range, pre_trained], directory=output_dir, make_subdir=True)\n",
    "plot_results_together([full_range, midpoint], directory=output_dir, make_subdir=True)\n",
    "plot_results_together([full_range, mid_band], directory=output_dir, make_subdir=True)\n",
    "plot_results_together([full_range, endpoint], directory=output_dir, make_subdir=True)"
   ],
   "metadata": {
    "collapsed": false,
    "pycharm": {
     "name": "#%%\n"
    }
   }
  },
  {
   "cell_type": "code",
   "execution_count": null,
   "outputs": [],
   "source": [
    "plot_results_together([full_range, mid_band, midpoint, endpoint, pre_trained], directory=output_dir, make_subdir=True)"
   ],
   "metadata": {
    "collapsed": false,
    "pycharm": {
     "name": "#%%\n"
    }
   }
  },
  {
   "cell_type": "code",
   "execution_count": null,
   "outputs": [],
   "source": [
    "plot_results_together([full_range, pre_trained], directory=output_dir, make_subdir=True, dim_tag='1d')"
   ],
   "metadata": {
    "collapsed": false,
    "pycharm": {
     "name": "#%%\n"
    }
   }
  },
  {
   "cell_type": "code",
   "execution_count": null,
   "outputs": [],
   "source": [
    "importlib.reload(dp)\n",
    "plot_results_together([full_range, mid_band, midpoint, endpoint, pre_trained], directory=output_dir, make_subdir=True, dim_tag='1d', legend_loc='best')"
   ],
   "metadata": {
    "collapsed": false,
    "pycharm": {
     "name": "#%%\n"
    }
   }
  },
  {
   "cell_type": "code",
   "execution_count": null,
   "outputs": [],
   "source": [
    "plot_results_together([full_range, mid_band, midpoint, endpoint], directory=output_dir, make_subdir=True, dim_tag='1d',\n",
    "                      legend_loc='lower left')"
   ],
   "metadata": {
    "collapsed": false,
    "pycharm": {
     "name": "#%%\n"
    }
   }
  },
  {
   "cell_type": "code",
   "execution_count": null,
   "outputs": [],
   "source": [
    "# plot full range with everything else\n",
    "plot_results_together([full_range, pre_trained], directory=output_dir, make_subdir=True)\n",
    "plot_results_together([full_range, midpoint], directory=output_dir, make_subdir=True)\n",
    "plot_results_together([full_range, mid_band], directory=output_dir, make_subdir=True)\n",
    "plot_results_together([full_range, endpoint], directory=output_dir, make_subdir=True)"
   ],
   "metadata": {
    "collapsed": false,
    "pycharm": {
     "name": "#%%\n"
    }
   }
  },
  {
   "cell_type": "code",
   "execution_count": null,
   "outputs": [],
   "source": [
    "plot_results_together([full_range, mid_band, midpoint, endpoint, pre_trained], directory=output_dir, make_subdir=True)"
   ],
   "metadata": {
    "collapsed": false,
    "pycharm": {
     "name": "#%%\n"
    }
   }
  },
  {
   "cell_type": "code",
   "execution_count": null,
   "outputs": [],
   "source": [
    "plot_results_together([full_range, pre_trained], directory=output_dir, make_subdir=True, dim_tag='1d')"
   ],
   "metadata": {
    "collapsed": false,
    "pycharm": {
     "name": "#%%\n"
    }
   }
  },
  {
   "cell_type": "code",
   "execution_count": 13,
   "outputs": [
    {
     "name": "stdout",
     "output_type": "stream",
     "text": [
      "full-range res linear fit:  [[0.16432074]\n",
      " [0.746268  ]]\n",
      "full-range res linear fit correlation:  0.9840143575749252 \n",
      "\n",
      "mid-band res linear fit:  [[0.2007633 ]\n",
      " [0.70754778]]\n",
      "mid-band res linear fit correlation:  0.9753659384018841 \n",
      "\n",
      "midpoint res linear fit:  [[0.24132481]\n",
      " [0.55911589]]\n",
      "midpoint res linear fit correlation:  0.9855760048228775 \n",
      "\n",
      "endpoint res linear fit:  [[-0.22222534]\n",
      " [ 0.83107476]]\n",
      "endpoint res linear fit correlation:  0.9934492013049051 \n",
      "\n",
      "pre-trained res linear fit:  [[-0.07360309]\n",
      " [ 0.46326529]]\n",
      "pre-trained res linear fit correlation:  0.7773058428970593 \n",
      "\n"
     ]
    },
    {
     "data": {
      "text/plain": "<Figure size 432x288 with 1 Axes>",
      "image/png": "[encoded data removed]"
     },
     "metadata": {
      "needs_background": "light"
     },
     "output_type": "display_data"
    },
    {
     "name": "stdout",
     "output_type": "stream",
     "text": [
      "full-range blur linear fit:  [[-0.02979748]\n",
      " [ 0.92411649]]\n",
      "full-range blur linear fit correlation:  0.9974330812086145 \n",
      "\n",
      "mid-band blur linear fit:  [[-0.04041702]\n",
      " [ 0.93205276]]\n",
      "mid-band blur linear fit correlation:  0.9251617722878509 \n",
      "\n",
      "midpoint blur linear fit:  [[-0.02497602]\n",
      " [ 0.78638889]]\n",
      "midpoint blur linear fit correlation:  0.31026251410333255 \n",
      "\n",
      "endpoint blur linear fit:  [[0.06107517]\n",
      " [0.55329446]]\n",
      "endpoint blur linear fit correlation:  0.9861314035418247 \n",
      "\n",
      "pre-trained blur linear fit:  [[-0.06458785]\n",
      " [ 0.52368423]]\n",
      "pre-trained blur linear fit correlation:  0.7858538947101221 \n",
      "\n"
     ]
    },
    {
     "data": {
      "text/plain": "<Figure size 432x288 with 1 Axes>",
      "image/png": "[encoded data removed]"
     },
     "metadata": {
      "needs_background": "light"
     },
     "output_type": "display_data"
    },
    {
     "name": "stdout",
     "output_type": "stream",
     "text": [
      "full-range noise linear fit:  [[-0.001311  ]\n",
      " [ 0.88352539]]\n",
      "full-range noise linear fit correlation:  0.9460056602167749 \n",
      "\n",
      "mid-band noise linear fit:  [[-0.00124433]\n",
      " [ 0.87165799]]\n",
      "mid-band noise linear fit correlation:  0.8219788638181222 \n",
      "\n",
      "midpoint noise linear fit:  [[-2.09725733e-04]\n",
      " [ 7.43425123e-01]]\n",
      "midpoint noise linear fit correlation:  0.0639031938160627 \n",
      "\n",
      "endpoint noise linear fit:  [[-0.0034618 ]\n",
      " [ 0.69789362]]\n",
      "endpoint noise linear fit correlation:  0.9353107664041822 \n",
      "\n",
      "pre-trained noise linear fit:  [[0.0019858 ]\n",
      " [0.38745222]]\n",
      "pre-trained noise linear fit correlation:  0.26412167636528505 \n",
      "\n"
     ]
    },
    {
     "data": {
      "text/plain": "<Figure size 432x288 with 1 Axes>",
      "image/png": "[encoded data removed]"
     },
     "metadata": {
      "needs_background": "light"
     },
     "output_type": "display_data"
    }
   ],
   "source": [
    "importlib.reload(dp)\n",
    "plot_results_together([full_range, mid_band, midpoint, endpoint, pre_trained], directory=output_dir, make_subdir=True, dim_tag='1d', legend_loc='best')"
   ],
   "metadata": {
    "collapsed": false,
    "pycharm": {
     "name": "#%%\n"
    }
   }
  },
  {
   "cell_type": "code",
   "execution_count": null,
   "outputs": [],
   "source": [
    "plot_results_together([full_range, mid_band, midpoint, endpoint], directory=output_dir, make_subdir=True, dim_tag='1d',\n",
    "                      legend_loc='lower left')"
   ],
   "metadata": {
    "collapsed": false,
    "pycharm": {
     "name": "#%%\n"
    }
   }
  }
 ],
 "metadata": {
  "kernelspec": {
   "display_name": "Python 3",
   "language": "python",
   "name": "python3"
  },
  "language_info": {
   "codemirror_mode": {
    "name": "ipython",
    "version": 2
   },
   "file_extension": ".py",
   "mimetype": "text/x-python",
   "name": "python",
   "nbconvert_exporter": "python",
   "pygments_lexer": "ipython2",
   "version": "2.7.6"
  }
 },
 "nbformat": 4,
 "nbformat_minor": 0
}