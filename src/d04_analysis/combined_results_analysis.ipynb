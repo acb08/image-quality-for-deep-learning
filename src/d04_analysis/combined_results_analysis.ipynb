{
 "cells": [
  {
   "cell_type": "markdown",
   "source": [],
   "metadata": {
    "collapsed": false,
    "pycharm": {
     "name": "#%% md\n"
    }
   }
  },
  {
   "cell_type": "code",
   "execution_count": 4,
   "outputs": [],
   "source": [
    "from src.d00_utils import definitions as defs\n",
    "from src.d04_analysis import distortion_performance as dp\n",
    "from src.d04_analysis.plot import analyze_plot_results_together\n",
    "from src.d04_analysis.compare_correlate_results import get_performance_correlations\n",
    "import src.d04_analysis.analysis_functions\n",
    "import matplotlib.pyplot as plt\n",
    "import importlib\n",
    "from pathlib import Path\n",
    "from src.d04_analysis.distortion_performance_composite import get_composite_performance_result"
   ],
   "metadata": {
    "collapsed": false,
    "pycharm": {
     "name": "#%%\n"
    }
   }
  },
  {
   "cell_type": "code",
   "execution_count": null,
   "outputs": [],
   "source": [
    "# # initialize ModelDistortionPerformanceResult instances for each of the model results to be considered\n",
    "#\n",
    "# endpoint_artifact_id = \"0018_rlt_0030_mdl_rst4_b5_nf5_best_loss_0040_tst_rs1_bcs3_nfs3_noise\"\n",
    "# endpoint_identifier = 'endpoint'\n",
    "# endpoint, __ = dp.get_model_distortion_performance_result(endpoint_artifact_id, endpoint_identifier)\n",
    "#\n",
    "# full_range_artifact_id = \"0017_rlt_0027_mdl_rst1_b10_nf11_best_loss_0040_tst_rs1_bcs3_nfs3_noise\"\n",
    "# full_range_identifier = 'full-range'\n",
    "# full_range, __ = dp.get_model_distortion_performance_result(full_range_artifact_id, full_range_identifier)\n",
    "#\n",
    "# mid_band_artifact_id = \"0016_rlt_0028_mdl_rst2_b11_nf10_best_loss_0040_tst_rs1_bcs3_nfs3_noise\"\n",
    "# mid_band_identifier = 'mid-band'\n",
    "# mid_band, __ = dp.get_model_distortion_performance_result(mid_band_artifact_id, mid_band_identifier)\n",
    "#\n",
    "# midpoint_artifact_id = \"0015_rlt_0029_mdl_rst3_b4_nf4_best_loss_0040_tst_rs1_bcs3_nfs3_noise\"\n",
    "# midpoint_identifier = 'midpoint'\n",
    "# midpoint, __ = dp.get_model_distortion_performance_result(midpoint_artifact_id, midpoint_identifier)\n",
    "#\n",
    "# pre_trained_artifact_id = \"0014_rlt_0001_0040_tst_rs1_bcs3_nfs3_noise\"\n",
    "# pre_trained_identifier = 'pre-trained'\n",
    "# pre_trained, __ = dp.get_model_distortion_performance_result(pre_trained_artifact_id, pre_trained_identifier)"
   ],
   "metadata": {
    "collapsed": false,
    "pycharm": {
     "name": "#%%\n"
    }
   }
  },
  {
   "cell_type": "code",
   "execution_count": null,
   "outputs": [],
   "source": [
    "# default_lr_artifact_id = \"0012-rlt-0001-mdl-resnet50_sat6_best_loss-0008-tst-r_fr_s6-b_fr_s6-n_fr_s6_noise\"  # sat6\n",
    "# default_lr_identifier = 'RN50-pre-trained'\n",
    "# default_lr, __ = dp.get_model_distortion_performance_result(default_lr_artifact_id, default_lr_identifier)\n",
    "#\n",
    "# low_lr_early_stop_artifact_id = '0013-rlt-0003-resnet50_sat6-pretrain_lower_lr-0008-tst-r_fr_s6-b_fr_s6-n_fr_s6_noise'  # sat6\n",
    "# low_lr_early_stop_identifier =  'RN50-pt-low-lr-early-stop'\n",
    "# low_lr_early_stop, __ = dp.get_model_distortion_performance_result(low_lr_early_stop_artifact_id , low_lr_early_stop_identifier)\n",
    "#\n",
    "# low_lr_artifact_id = '0014-rlt-0004-resnet50_sat6-pretrain_lower_lr_best_loss-0008-tst-r_fr_s6-b_fr_s6-n_fr_s6_noise'  # sat6\n",
    "# low_lr_identifier = 'RN50-pt-low-lr'\n",
    "# low_lr, __ = dp.get_model_distortion_performance_result(low_lr_artifact_id , low_lr_identifier)"
   ],
   "metadata": {
    "collapsed": false,
    "pycharm": {
     "name": "#%%\n"
    }
   }
  },
  {
   "cell_type": "code",
   "execution_count": null,
   "outputs": [],
   "source": [
    "# pre_trained_rn50_artifact_id = '0013-rlt-0003-resnet50_sat6-pretrain_lower_lr-0008-tst-r_fr_s6-b_fr_s6-n_fr_s6_noise'  # sat6\n",
    "# pre_trained_rn50_identifier =  'RN50-pre-trained'\n",
    "# rn50_pre_trained, __ = dp.get_model_distortion_performance_result(pre_trained_rn50_artifact_id , pre_trained_rn50_identifier)\n",
    "#\n",
    "# full_range_rn50_artifact_id = '0015-rlt-0005-resnet50_sat6-full_range_best_loss-0008-tst-r_fr_s6-b_fr_s6-n_fr_s6_noise'  # sat6\n",
    "# full_range_rn50_identifier= 'RN50-full-range'\n",
    "# rn50_full_range, __ = dp.get_model_distortion_performance_result(full_range_rn50_artifact_id, full_range_rn50_identifier)\n",
    "#\n",
    "# full_range_rn50_copy_artifact_id = '0015-rlt-0005-resnet50_sat6-full_range_best_loss-0008-tst-r_fr_s6-b_fr_s6-n_fr_s6_noise'  # sat6\n",
    "# full_range_rn50_copy_identifier= 'RN50-full-range_copy'\n",
    "# rn50_full_range_copy, __ = dp.get_model_distortion_performance_result(full_range_rn50_copy_artifact_id, full_range_rn50_copy_identifier)\n"
   ],
   "metadata": {
    "collapsed": false,
    "pycharm": {
     "name": "#%%\n",
     "is_executing": true
    }
   }
  },
  {
   "cell_type": "code",
   "execution_count": null,
   "outputs": [],
   "source": [
    "rn18_megaset_2_id= '0023-rlt-0008-resnet18_sat6-full_range_best_loss-0009-tst-full_range_mega_set_2_noise:v0'  # sat6\n",
    "rn18_megaset_2_identifier =  'RN18-megaset-2'\n",
    "rn18_megaset_2, __ = dp.get_model_distortion_performance_result(rn18_megaset_2_id, rn18_megaset_2_identifier)\n"
   ],
   "metadata": {
    "collapsed": false,
    "pycharm": {
     "name": "#%%\n",
     "is_executing": true
    }
   }
  },
  {
   "cell_type": "code",
   "execution_count": 35,
   "outputs": [
    {
     "data": {
      "text/plain": "<IPython.core.display.HTML object>",
      "text/html": "wandb version 0.12.16 is available!  To upgrade, please run:\n $ pip install wandb --upgrade"
     },
     "metadata": {},
     "output_type": "display_data"
    },
    {
     "data": {
      "text/plain": "<IPython.core.display.HTML object>",
      "text/html": "Tracking run with wandb version 0.12.11"
     },
     "metadata": {},
     "output_type": "display_data"
    },
    {
     "data": {
      "text/plain": "<IPython.core.display.HTML object>",
      "text/html": "Run data is saved locally in <code>/home/acb6595/sat6/image-quality-for-deep-learning/src/d04_analysis/wandb/run-20220520_162337-3mfkcmpp</code>"
     },
     "metadata": {},
     "output_type": "display_data"
    },
    {
     "data": {
      "text/plain": "<IPython.core.display.HTML object>",
      "text/html": "Syncing run <strong><a href=\"https://wandb.ai/austinbergstrom/sat6_v2/runs/3mfkcmpp\" target=\"_blank\">swept-bird-307</a></strong> to <a href=\"https://wandb.ai/austinbergstrom/sat6_v2\" target=\"_blank\">Weights & Biases</a> (<a href=\"https://wandb.me/run\" target=\"_blank\">docs</a>)<br/>"
     },
     "metadata": {},
     "output_type": "display_data"
    },
    {
     "name": "stdout",
     "output_type": "stream",
     "text": [
      "\n"
     ]
    },
    {
     "data": {
      "text/plain": "<IPython.core.display.HTML object>",
      "text/html": "Waiting for W&B process to finish... <strong style=\"color:green\">(success).</strong>"
     },
     "metadata": {},
     "output_type": "display_data"
    },
    {
     "data": {
      "text/plain": "VBox(children=(Label(value='0.001 MB of 0.001 MB uploaded (0.000 MB deduped)\\r'), FloatProgress(value=1.0, max…",
      "application/vnd.jupyter.widget-view+json": {
       "version_major": 2,
       "version_minor": 0,
       "model_id": "0e38b7362cab491fa99ca53cb6ab7ca1"
      }
     },
     "metadata": {},
     "output_type": "display_data"
    },
    {
     "data": {
      "text/plain": "<IPython.core.display.HTML object>",
      "text/html": "Synced <strong style=\"color:#cdcd00\">swept-bird-307</strong>: <a href=\"https://wandb.ai/austinbergstrom/sat6_v2/runs/3mfkcmpp\" target=\"_blank\">https://wandb.ai/austinbergstrom/sat6_v2/runs/3mfkcmpp</a><br/>Synced 5 W&B file(s), 0 media file(s), 0 artifact file(s) and 0 other file(s)"
     },
     "metadata": {},
     "output_type": "display_data"
    },
    {
     "data": {
      "text/plain": "<IPython.core.display.HTML object>",
      "text/html": "Find logs at: <code>./wandb/run-20220520_162337-3mfkcmpp/logs</code>"
     },
     "metadata": {},
     "output_type": "display_data"
    }
   ],
   "source": [
    "rn18_megaset_1_id= '0019-rlt-0008-resnet18_sat6-full_range_best_loss-0008-tst-r_fr_s6-b_fr_s6-n_fr_s6_noise:v0'  # sat6\n",
    "rn18_megaset_1_identifier =  'RN18-megaset-1'\n",
    "rn18_megaset_1, __ = dp.get_model_distortion_performance_result(rn18_megaset_1_id, rn18_megaset_1_identifier)\n"
   ],
   "metadata": {
    "collapsed": false,
    "pycharm": {
     "name": "#%%\n"
    }
   }
  },
  {
   "cell_type": "markdown",
   "source": [],
   "metadata": {
    "collapsed": false,
    "pycharm": {
     "name": "#%% md\n"
    }
   }
  },
  {
   "cell_type": "markdown",
   "source": [],
   "metadata": {
    "collapsed": false,
    "pycharm": {
     "name": "#%% md\n"
    }
   }
  },
  {
   "cell_type": "code",
   "execution_count": 36,
   "outputs": [],
   "source": [
    "output_dir = Path(defs.ROOT_DIR, defs.REL_PATHS['analysis'], 'combined')\n",
    "if not output_dir.is_dir():\n",
    "    Path.mkdir(output_dir)\n",
    "    print('created ', str(output_dir))"
   ],
   "metadata": {
    "collapsed": false,
    "pycharm": {
     "name": "#%%\n"
    }
   }
  },
  {
   "cell_type": "code",
   "execution_count": 37,
   "outputs": [
    {
     "name": "stdout",
     "output_type": "stream",
     "text": [
      "{(('0008-resnet18_sat6-full_range_best_loss:latest', '0009-tst-full_range_mega_set_2_noise:latest'), ('0008-resnet18_sat6-full_range_best_loss:latest', '0009-tst-full_range_mega_set_2_noise:latest')): 0.9999999999999998, (('0008-resnet18_sat6-full_range_best_loss:latest', '0009-tst-full_range_mega_set_2_noise:latest'), ('0008-resnet18_sat6-full_range_best_loss:latest', '0008-tst-r_fr_s6-b_fr_s6-n_fr_s6_noise:latest')): 0.6329889438613285, (('0008-resnet18_sat6-full_range_best_loss:latest', '0008-tst-r_fr_s6-b_fr_s6-n_fr_s6_noise:latest'), ('0008-resnet18_sat6-full_range_best_loss:latest', '0008-tst-r_fr_s6-b_fr_s6-n_fr_s6_noise:latest')): 1.0}\n"
     ]
    }
   ],
   "source": [
    "# place results into a single list for easier iteration\n",
    "# results = [pre_trained, midpoint, mid_band, full_range, endpoint]'\n",
    "importlib.reload(src.d04_analysis.analysis_functions)\n",
    "\n",
    "correlations, correlations_alt_keys = get_performance_correlations([rn18_megaset_2, rn18_megaset_1])\n",
    "print(correlations)"
   ],
   "metadata": {
    "collapsed": false,
    "pycharm": {
     "name": "#%%\n"
    }
   }
  },
  {
   "cell_type": "code",
   "execution_count": null,
   "outputs": [],
   "source": [
    "analyze_plot_results_together([rn18_megaset_1, rn18_megaset_2], directory=output_dir, make_subdir=True)"
   ],
   "metadata": {
    "collapsed": false,
    "pycharm": {
     "name": "#%%\n",
     "is_executing": true
    }
   }
  },
  {
   "cell_type": "code",
   "execution_count": null,
   "outputs": [],
   "source": [
    "# create some helper functions to plot results together with minimal pain\n",
    "# def create_identifier(perf_results, dim_tag=None):\n",
    "#     \"\"\"\n",
    "#     Creates identifier from a list of model performance results. Intended for use in plotting different\n",
    "#     sets of results together (i.e. built to be called by plot_results_together())\n",
    "#     \"\"\"\n",
    "#     if dim_tag:\n",
    "#         identifier = dim_tag\n",
    "#     else:\n",
    "#         identifier = None\n",
    "#\n",
    "#     for perf_result in perf_results:\n",
    "#         if not identifier:\n",
    "#             identifier = str(perf_result)\n",
    "#         else:\n",
    "#             identifier = f'{identifier}_{str(perf_result)}'\n",
    "#\n",
    "#     return identifier\n",
    "\n",
    "# def plot_results_together(model_results, directory=None, make_subdir=False, dim_tag='2d', legend_loc='best'):\n",
    "#     \"\"\"\n",
    "#     Plots performance of multiple models together.\n",
    "#     \"\"\"\n",
    "#     if dim_tag == '2d':\n",
    "#         identifier = create_identifier(model_results)\n",
    "#     else:\n",
    "#         identifier = create_identifier(model_results, dim_tag=dim_tag)\n",
    "#\n",
    "#     if directory and make_subdir:\n",
    "#         sub_dir = Path(directory, identifier)\n",
    "#         if not sub_dir.is_dir():\n",
    "#             Path.mkdir(sub_dir)\n",
    "#\n",
    "#         directory = sub_dir\n",
    "#\n",
    "#     if dim_tag == '2d':\n",
    "#         dp.plot_perf_2d_multi_result(model_results, directory=directory, identifier=identifier)\n",
    "#     else:\n",
    "#         dp.plot_perf_1d_multi_result(model_results, directory=directory, identifier=identifier, legend_loc=legend_loc)\n"
   ],
   "metadata": {
    "collapsed": false,
    "pycharm": {
     "name": "#%%\n"
    }
   }
  },
  {
   "cell_type": "code",
   "execution_count": null,
   "outputs": [],
   "source": [
    "plt.rcParams[\"figure.figsize\"] = (20,10)"
   ],
   "metadata": {
    "collapsed": false,
    "pycharm": {
     "name": "#%%\n"
    }
   }
  },
  {
   "cell_type": "code",
   "execution_count": null,
   "outputs": [],
   "source": [
    "# plot_results_together([rn50_pre_trained, rn50_full_range], directory=output_dir, make_subdir=True)"
   ],
   "metadata": {
    "collapsed": false,
    "pycharm": {
     "name": "#%%\n"
    }
   }
  },
  {
   "cell_type": "code",
   "execution_count": null,
   "outputs": [],
   "source": [
    "# plot_results_together([default_lr, low_lr, low_lr_early_stop], directory=output_dir, make_subdir=True)\n",
    "# plot_results_together([default_lr, low_lr_early_stop], directory=output_dir, make_subdir=True)"
   ],
   "metadata": {
    "collapsed": false,
    "pycharm": {
     "name": "#%%\n"
    }
   }
  },
  {
   "cell_type": "code",
   "execution_count": null,
   "outputs": [],
   "source": [
    "# exp_dir = Path(output_dir, 'plot_experiment')\n",
    "# Path.mkdir(exp_dir)\n",
    "# dp.analyze_perf_2d(default_lr, directory=exp_dir)"
   ],
   "metadata": {
    "collapsed": false,
    "pycharm": {
     "name": "#%%\n"
    }
   }
  },
  {
   "cell_type": "code",
   "execution_count": null,
   "outputs": [],
   "source": [
    "# plot_results_together([full_range, pre_trained, endpoint], directory=output_dir, make_subdir=True)"
   ],
   "metadata": {
    "collapsed": false,
    "pycharm": {
     "name": "#%%\n"
    }
   }
  },
  {
   "cell_type": "code",
   "execution_count": null,
   "outputs": [],
   "source": [
    "# plot pre-trained and endpoint results together\n",
    "# plot_results_together([pre_trained, endpoint], directory=output_dir, make_subdir=True)"
   ],
   "metadata": {
    "collapsed": false,
    "pycharm": {
     "name": "#%%\n"
    }
   }
  },
  {
   "cell_type": "code",
   "execution_count": null,
   "outputs": [],
   "source": [
    "# plot midpoint and mid-band together\n",
    "# plot_results_together([midpoint, mid_band], directory=output_dir, make_subdir=True)"
   ],
   "metadata": {
    "collapsed": false,
    "pycharm": {
     "name": "#%%\n"
    }
   }
  },
  {
   "cell_type": "code",
   "execution_count": null,
   "outputs": [],
   "source": [
    "# # plot full range with everything else\n",
    "# plot_results_together([full_range, pre_trained], directory=output_dir, make_subdir=True)\n",
    "# plot_results_together([full_range, midpoint], directory=output_dir, make_subdir=True)\n",
    "# plot_results_together([full_range, mid_band], directory=output_dir, make_subdir=True)\n",
    "# plot_results_together([full_range, endpoint], directory=output_dir, make_subdir=True)"
   ],
   "metadata": {
    "collapsed": false,
    "pycharm": {
     "name": "#%%\n"
    }
   }
  },
  {
   "cell_type": "code",
   "execution_count": null,
   "outputs": [],
   "source": [
    "# plot_results_together([full_range, mid_band, midpoint, endpoint, pre_trained], directory=output_dir, make_subdir=True)"
   ],
   "metadata": {
    "collapsed": false,
    "pycharm": {
     "name": "#%%\n"
    }
   }
  },
  {
   "cell_type": "code",
   "execution_count": null,
   "outputs": [],
   "source": [
    "# plot_results_together([full_range, pre_trained], directory=output_dir, make_subdir=True, dim_tag='1d')"
   ],
   "metadata": {
    "collapsed": false,
    "pycharm": {
     "name": "#%%\n"
    }
   }
  }
 ],
 "metadata": {
  "kernelspec": {
   "display_name": "Python 3",
   "language": "python",
   "name": "python3"
  },
  "language_info": {
   "codemirror_mode": {
    "name": "ipython",
    "version": 2
   },
   "file_extension": ".py",
   "mimetype": "text/x-python",
   "name": "python",
   "nbconvert_exporter": "python",
   "pygments_lexer": "ipython2",
   "version": "2.7.6"
  }
 },
 "nbformat": 4,
 "nbformat_minor": 0
}