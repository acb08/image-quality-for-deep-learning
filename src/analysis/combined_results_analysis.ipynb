{
 "cells": [
  {
   "cell_type": "markdown",
   "source": [],
   "metadata": {
    "collapsed": false,
    "pycharm": {
     "name": "#%% md\n"
    }
   }
  },
  {
   "cell_type": "code",
   "execution_count": 1,
   "outputs": [
    {
     "name": "stderr",
     "output_type": "stream",
     "text": [
      "\u001B[34m\u001B[1mwandb\u001B[0m: Currently logged in as: \u001B[33maustinbergstrom\u001B[0m (use `wandb login --relogin` to force relogin)\n"
     ]
    }
   ],
   "source": [
    "from src.d00_utils import definitions as defs\n",
    "from src.d04_analysis import distortion_performance as dp\n",
    "from src.d04_analysis.plot import analyze_plot_results_together\n",
    "from src.d04_analysis.compare_correlate_results import get_performance_correlations\n",
    "import src.d04_analysis.analysis_functions\n",
    "import matplotlib.pyplot as plt\n",
    "import importlib\n",
    "from pathlib import Path\n",
    "from src.d04_analysis.distortion_performance_composite import get_composite_performance_result"
   ],
   "metadata": {
    "collapsed": false,
    "pycharm": {
     "name": "#%%\n"
    }
   }
  },
  {
   "cell_type": "code",
   "execution_count": 2,
   "outputs": [],
   "source": [
    "# # initialize ModelDistortionPerformanceResult instances for each of the model results to be considered\n",
    "#\n",
    "# endpoint_artifact_id = \"0018_rlt_0030_mdl_rst4_b5_nf5_best_loss_0040_tst_rs1_bcs3_nfs3_noise\"\n",
    "# endpoint_identifier = 'endpoint'\n",
    "# endpoint, __ = dp.get_model_distortion_performance_result(endpoint_artifact_id, endpoint_identifier)\n",
    "#\n",
    "# full_range_artifact_id = \"0017_rlt_0027_mdl_rst1_b10_nf11_best_loss_0040_tst_rs1_bcs3_nfs3_noise\"\n",
    "# full_range_identifier = 'full-range'\n",
    "# full_range, __ = dp.get_model_distortion_performance_result(full_range_artifact_id, full_range_identifier)\n",
    "#\n",
    "# mid_band_artifact_id = \"0016_rlt_0028_mdl_rst2_b11_nf10_best_loss_0040_tst_rs1_bcs3_nfs3_noise\"\n",
    "# mid_band_identifier = 'mid-band'\n",
    "# mid_band, __ = dp.get_model_distortion_performance_result(mid_band_artifact_id, mid_band_identifier)\n",
    "#\n",
    "# midpoint_artifact_id = \"0015_rlt_0029_mdl_rst3_b4_nf4_best_loss_0040_tst_rs1_bcs3_nfs3_noise\"\n",
    "# midpoint_identifier = 'midpoint'\n",
    "# midpoint, __ = dp.get_model_distortion_performance_result(midpoint_artifact_id, midpoint_identifier)\n",
    "#\n",
    "# pre_trained_artifact_id = \"0014_rlt_0001_0040_tst_rs1_bcs3_nfs3_noise\"\n",
    "# pre_trained_identifier = 'pre-trained'\n",
    "# pre_trained, __ = dp.get_model_distortion_performance_result(pre_trained_artifact_id, pre_trained_identifier)"
   ],
   "metadata": {
    "collapsed": false,
    "pycharm": {
     "name": "#%%\n"
    }
   }
  },
  {
   "cell_type": "code",
   "execution_count": 3,
   "outputs": [],
   "source": [
    "# default_lr_artifact_id = \"0012-rlt-0001-mdl-resnet50_sat6_best_loss-0008-tst-r_fr_s6-b_fr_s6-n_fr_s6_noise\"  # sat6\n",
    "# default_lr_identifier = 'RN50-pre-trained'\n",
    "# default_lr, __ = dp.get_model_distortion_performance_result(default_lr_artifact_id, default_lr_identifier)\n",
    "#\n",
    "# low_lr_early_stop_artifact_id = '0013-rlt-0003-resnet50_sat6-pretrain_lower_lr-0008-tst-r_fr_s6-b_fr_s6-n_fr_s6_noise'  # sat6\n",
    "# low_lr_early_stop_identifier =  'RN50-pt-low-lr-early-stop'\n",
    "# low_lr_early_stop, __ = dp.get_model_distortion_performance_result(low_lr_early_stop_artifact_id , low_lr_early_stop_identifier)\n",
    "#\n",
    "# low_lr_artifact_id = '0014-rlt-0004-resnet50_sat6-pretrain_lower_lr_best_loss-0008-tst-r_fr_s6-b_fr_s6-n_fr_s6_noise'  # sat6\n",
    "# low_lr_identifier = 'RN50-pt-low-lr'\n",
    "# low_lr, __ = dp.get_model_distortion_performance_result(low_lr_artifact_id , low_lr_identifier)"
   ],
   "metadata": {
    "collapsed": false,
    "pycharm": {
     "name": "#%%\n"
    }
   }
  },
  {
   "cell_type": "code",
   "execution_count": 4,
   "outputs": [],
   "source": [
    "# pre_trained_rn50_artifact_id = '0013-rlt-0003-resnet50_sat6-pretrain_lower_lr-0008-tst-r_fr_s6-b_fr_s6-n_fr_s6_noise'  # sat6\n",
    "# pre_trained_rn50_identifier =  'RN50-pre-trained'\n",
    "# rn50_pre_trained, __ = dp.get_model_distortion_performance_result(pre_trained_rn50_artifact_id , pre_trained_rn50_identifier)\n",
    "#\n",
    "# full_range_rn50_artifact_id = '0015-rlt-0005-resnet50_sat6-full_range_best_loss-0008-tst-r_fr_s6-b_fr_s6-n_fr_s6_noise'  # sat6\n",
    "# full_range_rn50_identifier= 'RN50-full-range'\n",
    "# rn50_full_range, __ = dp.get_model_distortion_performance_result(full_range_rn50_artifact_id, full_range_rn50_identifier)\n",
    "#\n",
    "# rn50_full_range_copy, __ = dp.get_model_distortion_performance_result(full_range_rn50_copy_artifact_id, full_range_rn50_copy_identifier)\n",
    "\n",
    "# rn18_megaset_2_id= '0023-rlt-0008-resnet18_sat6-full_range_best_loss-0009-tst-full_range_mega_set_2_noise:v0'  # sat6\n",
    "# full_range_rn50_copy_artifact_id = '0015-rlt-0005-resnet50_sat6-full_range_best_loss-0008-tst-r_fr_s6-b_fr_s6-n_fr_s6_noise'  # sat6\n",
    "# full_range_rn50_copy_identifier= 'RN50-full-range_copy'\n",
    "# rn50_full_range_copy, __ = dp.get_model_distortion_performance_result(full_range_rn50_copy_artifact_id, full_range_rn50_copy_identifier)\n"
   ],
   "metadata": {
    "collapsed": false,
    "pycharm": {
     "name": "#%%\n"
    }
   }
  },
  {
   "cell_type": "code",
   "execution_count": null,
   "outputs": [],
   "source": [
    "# rn18_megaset_2_id= '0023-rlt-0008-resnet18_sat6-full_range_best_loss-0009-tst-full_range_mega_set_2_noise:v0'  # sat6\n",
    "# rn18_megaset_2_identifier =  'RN18-megaset-2'\n",
    "# rn18_megaset_2, __ = dp.get_model_distortion_performance_result(rn18_megaset_2_id, rn18_megaset_2_identifier)"
   ],
   "metadata": {
    "collapsed": false,
    "pycharm": {
     "name": "#%%\n",
     "is_executing": true
    }
   }
  },
  {
   "cell_type": "markdown",
   "source": [],
   "metadata": {
    "collapsed": false,
    "pycharm": {
     "name": "#%% md\n"
    }
   }
  },
  {
   "cell_type": "code",
   "execution_count": null,
   "outputs": [],
   "source": [
    "# rn18_megaset_1_id= '0019-rlt-0008-resnet18_sat6-full_range_best_loss-0008-tst-r_fr_s6-b_fr_s6-n_fr_s6_noise:v0'  # sat6\n",
    "# rn18_megaset_1_identifier =  'RN18-megaset-1'\n",
    "# rn18_megaset_1, __ = dp.get_model_distortion_performance_result(rn18_megaset_1_id, rn18_megaset_1_identifier)\n"
   ],
   "metadata": {
    "collapsed": false,
    "pycharm": {
     "name": "#%%\n",
     "is_executing": true
    }
   }
  },
  {
   "cell_type": "code",
   "execution_count": null,
   "outputs": [],
   "source": [
    "# rn18_cpr_id = 'RN18-Composite'\n",
    "# performance_prediction_result_ids = [\n",
    "#     '0034-rlt-0019-resnet18_sat6-oct_111_best_loss-0008-tst-r_fr_s6-b_fr_s6-n_fr_s6_noise:v0',\n",
    "#     '0033-rlt-0016-resnet18_sat6-oct_110_best_loss-0008-tst-r_fr_s6-b_fr_s6-n_fr_s6_noise:v0',\n",
    "#     '0032-rlt-0016-resnet18_sat6-oct_101_best_loss-0008-tst-r_fr_s6-b_fr_s6-n_fr_s6_noise:v0',\n",
    "#     '0031-rlt-0012-resnet18_sat6-oct_100_best_loss-0008-tst-r_fr_s6-b_fr_s6-n_fr_s6_noise:v0',\n",
    "#     '0030-rlt-0016-resnet18_sat6-oct_011_best_loss-0008-tst-r_fr_s6-b_fr_s6-n_fr_s6_noise:v0',\n",
    "#     '0029-rlt-0012-resnet18_sat6-oct_010_best_loss-0008-tst-r_fr_s6-b_fr_s6-n_fr_s6_noise:v0',\n",
    "#     '0028-rlt-0012-resnet18_sat6-oct_001_best_loss-0008-tst-r_fr_s6-b_fr_s6-n_fr_s6_noise:v0',\n",
    "#    '0026-rlt-0012-resnet18_sat6-oct_000_best_loss-0008-tst-r_fr_s6-b_fr_s6-n_fr_s6_noise:v0',\n",
    "# ]\n",
    "#\n",
    "# performance_eval_result_ids = [\n",
    "#     '0042-rlt-0019-resnet18_sat6-oct_111_best_loss-0009-tst-full_range_mega_set_2_noise:v0',\n",
    "#     '0041-rlt-0016-resnet18_sat6-oct_110_best_loss-0009-tst-full_range_mega_set_2_noise:v0',\n",
    "#     '0040-rlt-0016-resnet18_sat6-oct_101_best_loss-0009-tst-full_range_mega_set_2_noise:v0',\n",
    "#     '0039-rlt-0012-resnet18_sat6-oct_100_best_loss-0009-tst-full_range_mega_set_2_noise:v0',\n",
    "#     '0038-rlt-0016-resnet18_sat6-oct_011_best_loss-0009-tst-full_range_mega_set_2_noise:v0',\n",
    "#     '0037-rlt-0012-resnet18_sat6-oct_010_best_loss-0009-tst-full_range_mega_set_2_noise:v0',\n",
    "#     '0036-rlt-0012-resnet18_sat6-oct_001_best_loss-0009-tst-full_range_mega_set_2_noise:v0',\n",
    "#     '0035-rlt-0012-resnet18_sat6-oct_000_best_loss-0009-tst-full_range_mega_set_2_noise:v0',\n",
    "# ]\n",
    "# make_dir=False\n",
    "#\n",
    "# cpr, __ = get_composite_performance_result(performance_prediction_result_ids,\n",
    "#                                        performance_eval_result_ids=performance_eval_result_ids, identifier=rn18_cpr_id,\n",
    "#                                        make_dir=make_dir)\n"
   ],
   "metadata": {
    "collapsed": false,
    "pycharm": {
     "name": "#%%\n",
     "is_executing": true
    }
   }
  },
  {
   "cell_type": "code",
   "execution_count": 8,
   "outputs": [],
   "source": [
    "# output_dir = Path(defs.ROOT_DIR, defs.REL_PATHS['analysis'], 'combined', 'composite')\n",
    "output_dir = Path(defs.ROOT_DIR, defs.REL_PATHS['analysis'], 'combined')\n",
    "\n",
    "if not output_dir.is_dir():\n",
    "    Path.mkdir(output_dir)\n",
    "    print('created ', str(output_dir))"
   ],
   "metadata": {
    "collapsed": false,
    "pycharm": {
     "name": "#%%\n"
    }
   }
  },
  {
   "cell_type": "code",
   "execution_count": null,
   "outputs": [],
   "source": [
    "# correlations, correlations_alt_keys, __ = get_performance_correlations([rn18_megaset_2, rn18_megaset_1])\n",
    "# print(correlations)"
   ],
   "metadata": {
    "collapsed": false,
    "pycharm": {
     "name": "#%%\n",
     "is_executing": true
    }
   }
  },
  {
   "cell_type": "code",
   "execution_count": null,
   "outputs": [],
   "source": [
    "# correlations, correlations_alt_keys, __ = get_performance_correlations([rn18_megaset_2, cpr])"
   ],
   "metadata": {
    "collapsed": false,
    "pycharm": {
     "name": "#%%\n",
     "is_executing": true
    }
   }
  },
  {
   "cell_type": "code",
   "execution_count": null,
   "outputs": [],
   "source": [
    "# analyze_plot_results_together([cpr, rn18_megaset_2], directory=output_dir, make_subdir=True)"
   ],
   "metadata": {
    "collapsed": false,
    "pycharm": {
     "name": "#%%\n",
     "is_executing": true
    }
   }
  },
  {
   "cell_type": "code",
   "execution_count": null,
   "outputs": [],
   "source": [
    "# import numpy as np\n",
    "# print(np.mean(cpr.top_1_vec))\n",
    "# print(np.mean(rn18_megaset_2.top_1_vec))\n",
    "# str(cpr.top_1_vec)"
   ],
   "metadata": {
    "collapsed": false,
    "pycharm": {
     "name": "#%%\n",
     "is_executing": true
    }
   }
  },
  {
   "cell_type": "code",
   "execution_count": 14,
   "outputs": [],
   "source": [
    "plt.rcParams[\"figure.figsize\"] = (20,10)"
   ],
   "metadata": {
    "collapsed": false,
    "pycharm": {
     "name": "#%%\n"
    }
   }
  },
  {
   "cell_type": "code",
   "execution_count": null,
   "outputs": [],
   "source": [
    "# print(str(cpr))"
   ],
   "metadata": {
    "collapsed": false,
    "pycharm": {
     "name": "#%%\n",
     "is_executing": true
    }
   }
  },
  {
   "cell_type": "code",
   "execution_count": 25,
   "outputs": [],
   "source": [
    "# plot_results_together([rn50_pre_trained, rn50_full_range], directory=output_dir, make_subdir=True)"
   ],
   "metadata": {
    "collapsed": false,
    "pycharm": {
     "name": "#%%\n"
    }
   }
  },
  {
   "cell_type": "code",
   "execution_count": 16,
   "outputs": [],
   "source": [
    "# plot_results_together([default_lr, low_lr, low_lr_early_stop], directory=output_dir, make_subdir=True)\n",
    "# plot_results_together([default_lr, low_lr_early_stop], directory=output_dir, make_subdir=True)"
   ],
   "metadata": {
    "collapsed": false,
    "pycharm": {
     "name": "#%%\n"
    }
   }
  },
  {
   "cell_type": "code",
   "execution_count": 17,
   "outputs": [],
   "source": [
    "# exp_dir = Path(output_dir, 'plot_experiment')\n",
    "# Path.mkdir(exp_dir)\n",
    "# dp.analyze_perf_2d(default_lr, directory=exp_dir)"
   ],
   "metadata": {
    "collapsed": false,
    "pycharm": {
     "name": "#%%\n"
    }
   }
  },
  {
   "cell_type": "code",
   "execution_count": 18,
   "outputs": [],
   "source": [
    "# plot_results_together([full_range, pre_trained, endpoint], directory=output_dir, make_subdir=True)"
   ],
   "metadata": {
    "collapsed": false,
    "pycharm": {
     "name": "#%%\n"
    }
   }
  },
  {
   "cell_type": "code",
   "execution_count": 19,
   "outputs": [],
   "source": [
    "# plot pre-trained and endpoint results together\n",
    "# plot_results_together([pre_trained, endpoint], directory=output_dir, make_subdir=True)"
   ],
   "metadata": {
    "collapsed": false,
    "pycharm": {
     "name": "#%%\n"
    }
   }
  },
  {
   "cell_type": "code",
   "execution_count": 20,
   "outputs": [],
   "source": [
    "# plot midpoint and mid-band together\n",
    "# plot_results_together([midpoint, mid_band], directory=output_dir, make_subdir=True)"
   ],
   "metadata": {
    "collapsed": false,
    "pycharm": {
     "name": "#%%\n"
    }
   }
  },
  {
   "cell_type": "code",
   "execution_count": 21,
   "outputs": [],
   "source": [
    "# # plot full range with everything else\n",
    "# plot_results_together([full_range, pre_trained], directory=output_dir, make_subdir=True)\n",
    "# plot_results_together([full_range, midpoint], directory=output_dir, make_subdir=True)\n",
    "# plot_results_together([full_range, mid_band], directory=output_dir, make_subdir=True)\n",
    "# plot_results_together([full_range, endpoint], directory=output_dir, make_subdir=True)"
   ],
   "metadata": {
    "collapsed": false,
    "pycharm": {
     "name": "#%%\n"
    }
   }
  },
  {
   "cell_type": "code",
   "execution_count": 22,
   "outputs": [],
   "source": [
    "# plot_results_together([full_range, mid_band, midpoint, endpoint, pre_trained], directory=output_dir, make_subdir=True)"
   ],
   "metadata": {
    "collapsed": false,
    "pycharm": {
     "name": "#%%\n"
    }
   }
  },
  {
   "cell_type": "code",
   "execution_count": 23,
   "outputs": [],
   "source": [
    "# plot_results_together([full_range, pre_trained], directory=output_dir, make_subdir=True, dim_tag='1d')"
   ],
   "metadata": {
    "collapsed": false,
    "pycharm": {
     "name": "#%%\n"
    }
   }
  },
  {
   "cell_type": "markdown",
   "source": [
    "SAT-6 pre-trained, midpoint, endpoint comparisons on fr90-megaset-1"
   ],
   "metadata": {
    "collapsed": false,
    "pycharm": {
     "name": "#%% md\n"
    }
   }
  },
  {
   "cell_type": "code",
   "execution_count": null,
   "outputs": [],
   "source": [
    "ep_fr90_mega1_id = '0090-rlt-0020-resnet18_sat6-endpoint_best_loss-0012-tst-full_range_90_mega_set_1_noise:v0'  # sat6\n",
    "ep_fr90_mega1_identifier =  'endpoint'\n",
    "fr90_mega_1, __ = dp.get_model_distortion_performance_result(ep_fr90_mega1_id, ep_fr90_mega1_identifier)\n",
    "\n",
    "# analyze_plot_results_together([cpr, rn18_megaset_2], directory=output_dir, make_subdir=True)"
   ],
   "metadata": {
    "collapsed": false,
    "pycharm": {
     "name": "#%%\n"
    }
   }
  },
  {
   "cell_type": "markdown",
   "source": [],
   "metadata": {
    "collapsed": false,
    "pycharm": {
     "name": "#%% md\n"
    }
   }
  }
 ],
 "metadata": {
  "kernelspec": {
   "display_name": "Python 3",
   "language": "python",
   "name": "python3"
  },
  "language_info": {
   "codemirror_mode": {
    "name": "ipython",
    "version": 2
   },
   "file_extension": ".py",
   "mimetype": "text/x-python",
   "name": "python",
   "nbconvert_exporter": "python",
   "pygments_lexer": "ipython2",
   "version": "2.7.6"
  }
 },
 "nbformat": 4,
 "nbformat_minor": 0
}